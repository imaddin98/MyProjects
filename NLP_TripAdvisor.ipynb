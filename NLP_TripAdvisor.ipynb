{
 "cells": [
  {
   "cell_type": "markdown",
   "id": "8a71bb38",
   "metadata": {},
   "source": [
    "# Natural Language Processing Mid-Term Project\n"
   ]
  },
  {
   "cell_type": "markdown",
   "id": "2c3c2d9a",
   "metadata": {},
   "source": [
    "## 1. Introduction"
   ]
  },
  {
   "cell_type": "markdown",
   "id": "849e6e97",
   "metadata": {},
   "source": [
    "### Domain-Specific area\n"
   ]
  },
  {
   "cell_type": "markdown",
   "id": "d1f1cd23",
   "metadata": {},
   "source": [
    "For this coursework, I have decided to do sentiment analysis on user reviews. The domain that I specifically will touch on is the travel industry. In this day and age, online travel and booking websites are widely used by tourists as it has information on hotels, restaurants and activities around the world and it includes reviews of the places visited by users  who had already visited them. The travel industry has experienced an exponential increase in demand ever since the World Health Organization (WHO) declared that “Covid-19 is no longer a global health emergency”.[1] This led to a significant increase in the number of people accessing websites to research and make reservations for their travel plans.  Reviews about a place carries a significant importance in helping an interested party decide whether to visit a place or not. With sentiment analysis on the reviews made by the tourists, we can assist interested parties in picking their choice of visit according to the sentiment of the review on the place made by people who have already visited the place and at the same time help businesses improve their business accordingly to receive better reviews which will in turn generate more revenue and visits by people. "
   ]
  },
  {
   "cell_type": "markdown",
   "id": "2a45b920",
   "metadata": {},
   "source": [
    "### Objectives"
   ]
  },
  {
   "cell_type": "markdown",
   "id": "bc58e932",
   "metadata": {},
   "source": [
    "The objectives of this project is to build a deep neural network model that is able to conduct a sentiment analysis on a dataset of reviews with a high degree of accuracy, producing reasonable results. I will use a Jupyter notebook to create the model. To measure the quality of the model and its results, I will build a basic baseline model and compare the evaluation of it with the deep neural network model. This ensures a thorough evaluation of the deep neural network model. Through sentiment analysis, the model will be able to categorise the sentiment of the review made, whether it is a positive review or a negative review. This will help business owners improve their businesses accordingly and also assist tourists in making informed decisions about places to visit. If the place has positive reviews, business owners will know that they are doing something right about managing their place and can continue in doing so and if there are negative reviews, business owners can study the reviews and make improvements upon their establishment to increase the positive reviews of the place to attract more people. Tourists would highly likely visit a place if it has positive reviews and avoid a place if the place has negative reviews. This piece of technology will greatly benefit both tourists and business owners."
   ]
  },
  {
   "cell_type": "markdown",
   "id": "1372cc79",
   "metadata": {},
   "source": [
    "### Dataset\n"
   ]
  },
  {
   "cell_type": "markdown",
   "id": "d55fd6af",
   "metadata": {},
   "source": [
    "The dataset chosen for this project is the Tripadvisor Hotel Reviews dataset which can be acquired on kaggle. The reason why I chose this dataset is because I find it to be highly suitable for my coursework as it is a dataset taken from TripAdvisor, a reputable travel information website that contains a host of reviews of places people have visited which is exactly what I wanted to do for this project. This dataset consists of over 20,491 unique hotel reviews from tripadvisor and has a size of about 5MB. The file is in the format of CSV, making it convenient to be loaded into the Jupyter notebook. It is small in size and contains a sufficient amount of reviews for sentiment analysis to be done.[2] The dataset has five different categories for the ratings. They are 1,2,3,4 and 5. However, I plan to group and categorise the ratings accordingly so that it is more readable and efficient. I will further discuss about it in the implementation, preprocessing section of this report. "
   ]
  },
  {
   "cell_type": "markdown",
   "id": "5c9fd7bb",
   "metadata": {},
   "source": [
    "### Evaluation Methodology\n"
   ]
  },
  {
   "cell_type": "markdown",
   "id": "51672153",
   "metadata": {},
   "source": [
    "As discussed in the aforementioned objectives section, I will create a baseline model and use it to compare its performance with the deep neural network model. The methodologies that I plan to employ is the precision score, accuracy, recall, F1 score and display the confusion matrix. As long as the deep neural network performs better than the baseline model, I can call it a success.\n",
    "\n",
    "Precision measures the number of true positives against the total number of positive predictions. A high precision means that the model is precise in classifying its predictions. Thus, a high precision score means that the model is performing well.\n",
    "\n",
    "The accuracy score counts the number of correct predictions made by the model against the total number of predictions made. The higher accuracy the model has, the better it is. Thus, it is ideal for a model to have a high accuracy.\n",
    "\n",
    "The recall score measures the number of true positives against the total number of all the positive predictions. This evaluates the rate of correct predictions made by the model. The higher the recall score, the better the performance of the model.\n",
    "\n",
    "F1 score measures the balance of the model by taking into account the recall and precision score. It produces a value between 0 and 1. The higher the value the better it is. It means that the is balanced in classifying all its labels. This helps in finding out if the dataset used for the model is balanced or not aswell.\n",
    "\n",
    "The confusion matrix visualises the performance of the model, displaying the true positives, true negatives, false positives and false negatives.\n"
   ]
  },
  {
   "cell_type": "markdown",
   "id": "34c3d6ea",
   "metadata": {},
   "source": [
    "## 2. Implementation"
   ]
  },
  {
   "cell_type": "markdown",
   "id": "241fc97f",
   "metadata": {},
   "source": [
    "### Preprocessing\n",
    "For preprocessing of data, I decided to first transform the 'Rating' of the reviews. Next, using WordNet to lemmatize the reviews before finally utilising the bag of words method, count vectorizer to extract features from the data. I will further elaborate the steps mentioned here below."
   ]
  },
  {
   "cell_type": "code",
   "execution_count": 1,
   "id": "a509d0b6",
   "metadata": {},
   "outputs": [],
   "source": [
    "# import relevant libraries\n",
    "import nltk\n",
    "import pandas as pd\n",
    "from nltk.stem.wordnet import WordNetLemmatizer\n",
    "import string\n",
    "from nltk.corpus import stopwords\n",
    "from nltk.stem.porter import PorterStemmer\n",
    "from nltk.tokenize import TweetTokenizer\n",
    "from nltk.tokenize import word_tokenize \n",
    "from sklearn.feature_extraction.text import TfidfVectorizer"
   ]
  },
  {
   "cell_type": "code",
   "execution_count": 2,
   "id": "f04aa2a2",
   "metadata": {},
   "outputs": [],
   "source": [
    "# loading the csv file\n",
    "reviews = pd.read_csv(\"tripadvisor_hotel_reviews.csv\")"
   ]
  },
  {
   "cell_type": "code",
   "execution_count": 3,
   "id": "bb112bc4",
   "metadata": {
    "scrolled": true
   },
   "outputs": [
    {
     "data": {
      "text/html": [
       "<div>\n",
       "<style scoped>\n",
       "    .dataframe tbody tr th:only-of-type {\n",
       "        vertical-align: middle;\n",
       "    }\n",
       "\n",
       "    .dataframe tbody tr th {\n",
       "        vertical-align: top;\n",
       "    }\n",
       "\n",
       "    .dataframe thead th {\n",
       "        text-align: right;\n",
       "    }\n",
       "</style>\n",
       "<table border=\"1\" class=\"dataframe\">\n",
       "  <thead>\n",
       "    <tr style=\"text-align: right;\">\n",
       "      <th></th>\n",
       "      <th>Review</th>\n",
       "      <th>Rating</th>\n",
       "    </tr>\n",
       "  </thead>\n",
       "  <tbody>\n",
       "    <tr>\n",
       "      <th>0</th>\n",
       "      <td>nice hotel expensive parking got good deal sta...</td>\n",
       "      <td>4</td>\n",
       "    </tr>\n",
       "    <tr>\n",
       "      <th>1</th>\n",
       "      <td>ok nothing special charge diamond member hilto...</td>\n",
       "      <td>2</td>\n",
       "    </tr>\n",
       "    <tr>\n",
       "      <th>2</th>\n",
       "      <td>nice rooms not 4* experience hotel monaco seat...</td>\n",
       "      <td>3</td>\n",
       "    </tr>\n",
       "    <tr>\n",
       "      <th>3</th>\n",
       "      <td>unique, great stay, wonderful time hotel monac...</td>\n",
       "      <td>5</td>\n",
       "    </tr>\n",
       "    <tr>\n",
       "      <th>4</th>\n",
       "      <td>great stay great stay, went seahawk game aweso...</td>\n",
       "      <td>5</td>\n",
       "    </tr>\n",
       "  </tbody>\n",
       "</table>\n",
       "</div>"
      ],
      "text/plain": [
       "                                              Review  Rating\n",
       "0  nice hotel expensive parking got good deal sta...       4\n",
       "1  ok nothing special charge diamond member hilto...       2\n",
       "2  nice rooms not 4* experience hotel monaco seat...       3\n",
       "3  unique, great stay, wonderful time hotel monac...       5\n",
       "4  great stay great stay, went seahawk game aweso...       5"
      ]
     },
     "execution_count": 3,
     "metadata": {},
     "output_type": "execute_result"
    }
   ],
   "source": [
    "reviews.head()"
   ]
  },
  {
   "cell_type": "code",
   "execution_count": 4,
   "id": "1c9807b0",
   "metadata": {
    "scrolled": true
   },
   "outputs": [
    {
     "name": "stdout",
     "output_type": "stream",
     "text": [
      "<class 'pandas.core.frame.DataFrame'>\n",
      "RangeIndex: 20491 entries, 0 to 20490\n",
      "Data columns (total 2 columns):\n",
      " #   Column  Non-Null Count  Dtype \n",
      "---  ------  --------------  ----- \n",
      " 0   Review  20491 non-null  object\n",
      " 1   Rating  20491 non-null  int64 \n",
      "dtypes: int64(1), object(1)\n",
      "memory usage: 320.3+ KB\n"
     ]
    }
   ],
   "source": [
    "reviews.info()"
   ]
  },
  {
   "cell_type": "markdown",
   "id": "ca9595d9",
   "metadata": {},
   "source": [
    "The output below shows that there is no null data in this dataset"
   ]
  },
  {
   "cell_type": "code",
   "execution_count": 5,
   "id": "eb80f2ee",
   "metadata": {},
   "outputs": [
    {
     "data": {
      "text/plain": [
       "Review    0\n",
       "Rating    0\n",
       "dtype: int64"
      ]
     },
     "execution_count": 5,
     "metadata": {},
     "output_type": "execute_result"
    }
   ],
   "source": [
    "reviews.isnull().sum()"
   ]
  },
  {
   "cell_type": "markdown",
   "id": "0df05616",
   "metadata": {},
   "source": [
    "There is a total of 20491 reviews in this dataset"
   ]
  },
  {
   "cell_type": "code",
   "execution_count": 6,
   "id": "c94ac7d7",
   "metadata": {},
   "outputs": [
    {
     "data": {
      "text/plain": [
       "20491"
      ]
     },
     "execution_count": 6,
     "metadata": {},
     "output_type": "execute_result"
    }
   ],
   "source": [
    "len(reviews)"
   ]
  },
  {
   "cell_type": "markdown",
   "id": "0a266bc4",
   "metadata": {},
   "source": [
    "#### Rating Classifier"
   ]
  },
  {
   "cell_type": "markdown",
   "id": "b94de24a",
   "metadata": {},
   "source": [
    "As seen below, there 5 different type of ratings. To generalise and make the dataset more readable, I will group and categorise the ratings into positive, neutral and negative. They will be classified as follows, if the rating is more than 3, it is classified as positive. If it is three, it is classified as neutral and if it is lesser than 3, it will be classified as negative.   "
   ]
  },
  {
   "cell_type": "code",
   "execution_count": 7,
   "id": "c2886acc",
   "metadata": {
    "scrolled": true
   },
   "outputs": [
    {
     "data": {
      "text/plain": [
       "array([4, 2, 3, 5, 1], dtype=int64)"
      ]
     },
     "execution_count": 7,
     "metadata": {},
     "output_type": "execute_result"
    }
   ],
   "source": [
    "reviews['Rating'].unique()"
   ]
  },
  {
   "cell_type": "code",
   "execution_count": 8,
   "id": "7ec964c2",
   "metadata": {},
   "outputs": [],
   "source": [
    "# This is the helper function for the rating\n",
    "def categoriser(rating):\n",
    "    if rating > 3:\n",
    "        return \"Positive\"\n",
    "    elif rating == 3:\n",
    "        return \"Neutral\"\n",
    "    else:\n",
    "        return \"Negative\""
   ]
  },
  {
   "cell_type": "code",
   "execution_count": 9,
   "id": "175f75b8",
   "metadata": {},
   "outputs": [],
   "source": [
    "# applying the new ratings on the dataset\n",
    "reviews[\"Rating\"]=reviews[\"Rating\"].apply(categoriser)"
   ]
  },
  {
   "cell_type": "markdown",
   "id": "3d474e9b",
   "metadata": {},
   "source": [
    "The table below shows the newly applied rating categoriser"
   ]
  },
  {
   "cell_type": "code",
   "execution_count": 10,
   "id": "95628ffb",
   "metadata": {
    "scrolled": true
   },
   "outputs": [
    {
     "data": {
      "text/html": [
       "<div>\n",
       "<style scoped>\n",
       "    .dataframe tbody tr th:only-of-type {\n",
       "        vertical-align: middle;\n",
       "    }\n",
       "\n",
       "    .dataframe tbody tr th {\n",
       "        vertical-align: top;\n",
       "    }\n",
       "\n",
       "    .dataframe thead th {\n",
       "        text-align: right;\n",
       "    }\n",
       "</style>\n",
       "<table border=\"1\" class=\"dataframe\">\n",
       "  <thead>\n",
       "    <tr style=\"text-align: right;\">\n",
       "      <th></th>\n",
       "      <th>Review</th>\n",
       "      <th>Rating</th>\n",
       "    </tr>\n",
       "  </thead>\n",
       "  <tbody>\n",
       "    <tr>\n",
       "      <th>0</th>\n",
       "      <td>nice hotel expensive parking got good deal sta...</td>\n",
       "      <td>Positive</td>\n",
       "    </tr>\n",
       "    <tr>\n",
       "      <th>1</th>\n",
       "      <td>ok nothing special charge diamond member hilto...</td>\n",
       "      <td>Negative</td>\n",
       "    </tr>\n",
       "    <tr>\n",
       "      <th>2</th>\n",
       "      <td>nice rooms not 4* experience hotel monaco seat...</td>\n",
       "      <td>Neutral</td>\n",
       "    </tr>\n",
       "    <tr>\n",
       "      <th>3</th>\n",
       "      <td>unique, great stay, wonderful time hotel monac...</td>\n",
       "      <td>Positive</td>\n",
       "    </tr>\n",
       "    <tr>\n",
       "      <th>4</th>\n",
       "      <td>great stay great stay, went seahawk game aweso...</td>\n",
       "      <td>Positive</td>\n",
       "    </tr>\n",
       "  </tbody>\n",
       "</table>\n",
       "</div>"
      ],
      "text/plain": [
       "                                              Review    Rating\n",
       "0  nice hotel expensive parking got good deal sta...  Positive\n",
       "1  ok nothing special charge diamond member hilto...  Negative\n",
       "2  nice rooms not 4* experience hotel monaco seat...   Neutral\n",
       "3  unique, great stay, wonderful time hotel monac...  Positive\n",
       "4  great stay great stay, went seahawk game aweso...  Positive"
      ]
     },
     "execution_count": 10,
     "metadata": {},
     "output_type": "execute_result"
    }
   ],
   "source": [
    "reviews.head()"
   ]
  },
  {
   "cell_type": "markdown",
   "id": "6f2631d5",
   "metadata": {},
   "source": [
    "#### Lemmatization\n",
    "The reason why I chose to lemmatize the words is because it reduce the words to the root without taking away the meaning of the word unlike stemming which could render the word meaningless. "
   ]
  },
  {
   "cell_type": "code",
   "execution_count": 11,
   "id": "f21dde42",
   "metadata": {},
   "outputs": [],
   "source": [
    "# initialise the labels\n",
    "labels = reviews['Rating']"
   ]
  },
  {
   "cell_type": "code",
   "execution_count": 12,
   "id": "bb5bb2f5",
   "metadata": {
    "scrolled": false
   },
   "outputs": [],
   "source": [
    "# initialise the reviews\n",
    "REV=reviews[\"Review\"]"
   ]
  },
  {
   "cell_type": "code",
   "execution_count": 13,
   "id": "5b43d67a",
   "metadata": {
    "scrolled": true
   },
   "outputs": [],
   "source": [
    "#below is the helper function for lemmatizing\n",
    "lemmatizer = WordNetLemmatizer()\n",
    "def lemmatize_func(text):\n",
    "    stopw = set(stopwords.words('english'))\n",
    "    words = nltk.word_tokenize(text)\n",
    "    remove_stop = [w for w in words if not w.lower() in stopw]\n",
    "    word = [lemmatizer.lemmatize(w, 'v') for w in remove_stop]\n",
    "    return ' '.join(word)"
   ]
  },
  {
   "cell_type": "code",
   "execution_count": 14,
   "id": "635b6a41",
   "metadata": {
    "scrolled": true
   },
   "outputs": [],
   "source": [
    "# apply the lemmatization to the reviews\n",
    "REV= REV.apply(lemmatize_func)"
   ]
  },
  {
   "cell_type": "markdown",
   "id": "23cda591",
   "metadata": {},
   "source": [
    "Below, we compare a review from before it was lemmatized vs after it was lemmatized and it is noticable that there are differences in the review after it was lemmatized."
   ]
  },
  {
   "cell_type": "code",
   "execution_count": 15,
   "id": "d9d485b9",
   "metadata": {},
   "outputs": [
    {
     "name": "stdout",
     "output_type": "stream",
     "text": [
      "nice hotel expensive parking got good deal stay hotel anniversary, arrived late evening took advice previous reviews did valet parking, check quick easy, little disappointed non-existent view room room clean nice size, bed comfortable woke stiff neck high pillows, not soundproof like heard music room night morning loud bangs doors opening closing hear people talking hallway, maybe just noisy neighbors, aveda bath products nice, did not goldfish stay nice touch taken advantage staying longer, location great walking distance shopping, overall nice experience having pay 40 parking night,  \n"
     ]
    }
   ],
   "source": [
    "# review before lemmatization\n",
    "print(reviews['Review'][0])"
   ]
  },
  {
   "cell_type": "code",
   "execution_count": 16,
   "id": "ac55ca07",
   "metadata": {
    "scrolled": false
   },
   "outputs": [
    {
     "name": "stdout",
     "output_type": "stream",
     "text": [
      "nice hotel expensive park get good deal stay hotel anniversary , arrive late even take advice previous review valet park , check quick easy , little disappoint non-existent view room room clean nice size , bed comfortable wake stiff neck high pillow , soundproof like hear music room night morning loud bang doors open close hear people talk hallway , maybe noisy neighbor , aveda bath products nice , goldfish stay nice touch take advantage stay longer , location great walk distance shop , overall nice experience pay 40 park night ,\n"
     ]
    }
   ],
   "source": [
    "# review after lemmatization\n",
    "print(REV[0])"
   ]
  },
  {
   "cell_type": "markdown",
   "id": "3b0c601a",
   "metadata": {},
   "source": [
    "#### Feature Extraction \n",
    "For feature extraction, I used a bag of words method, count vectorizer. The count vectorizer counts every distinct word that occurs in the dataset. It converts the text into numerals which then enable the converted texts to be evaluated by a machine learning algorithm.  "
   ]
  },
  {
   "cell_type": "code",
   "execution_count": 17,
   "id": "5541ab6f",
   "metadata": {},
   "outputs": [],
   "source": [
    "# Count vectorizer function\n",
    "from sklearn.feature_extraction.text import CountVectorizer\n",
    "vectorizer = CountVectorizer()\n",
    "vectorizer.fit(REV)\n",
    "#print(reviews[\"Review\"])\n",
    "rev_vector = vectorizer.transform(REV)"
   ]
  },
  {
   "cell_type": "code",
   "execution_count": 18,
   "id": "88d4a70a",
   "metadata": {},
   "outputs": [
    {
     "data": {
      "text/plain": [
       "(20491, 48209)"
      ]
     },
     "execution_count": 18,
     "metadata": {},
     "output_type": "execute_result"
    }
   ],
   "source": [
    "rev_vector.shape"
   ]
  },
  {
   "cell_type": "markdown",
   "id": "06d27eb8",
   "metadata": {},
   "source": [
    "### Baseline performance"
   ]
  },
  {
   "cell_type": "markdown",
   "id": "c54c70cf",
   "metadata": {},
   "source": [
    "The classifier that I have chose to build for the baseline is the Multinomial Naive Bayes (MNB) model. This is because firstly, MNB is a probabilistic classifier that is able to classify a text to a sentiment class. Since this is a sentiment analysis which is technically a text classification problem, MNB is suitable for this task. Secondly, MNB can work well with data that is preprocessed in a bag-of-words method. Since I am using a bag-of-words method to preprocess the dataset, MNB is suitable for this. I believe that with this two reasons, it is convincing enough for me to to use the MNB model to carry out this task.\n",
    "\n",
    "The object rev_vector contains all the reviews in the dataset. The object labels contains all the ratings of the reviews in the dataset. These will be the feature and label respectively for the classifier.\n",
    "\n",
    "To carry out the classification first we have to split the dataset into train and test sets. Thereafter, I will train the MNB model using the train dataset and evaluate the model on the test set."
   ]
  },
  {
   "cell_type": "code",
   "execution_count": 19,
   "id": "d9f2ff1b",
   "metadata": {},
   "outputs": [],
   "source": [
    "#Splitting the data into trainig and testing\n",
    "from sklearn.model_selection import train_test_split\n",
    "X_train, X_test, Y_train, Y_test = train_test_split(rev_vector, labels, test_size=0.20, random_state=5)\n",
    "#Training the model"
   ]
  },
  {
   "cell_type": "code",
   "execution_count": 20,
   "id": "cd945f6f",
   "metadata": {
    "scrolled": true
   },
   "outputs": [
    {
     "name": "stdout",
     "output_type": "stream",
     "text": [
      "Accuracy Score:  0.8404488899731641\n"
     ]
    }
   ],
   "source": [
    "# creating the model\n",
    "from sklearn.naive_bayes import MultinomialNB\n",
    "MNB = MultinomialNB()\n",
    "MNB.fit(X_train, Y_train)\n",
    "#Caluclating the accuracy score of the model\n",
    "from sklearn import metrics\n",
    "predictedMNB = MNB.predict(X_test)\n",
    "accuracy_score_base = metrics.accuracy_score(predictedMNB, Y_test)\n",
    "print(\"Accuracy Score: \",accuracy_score_base)"
   ]
  },
  {
   "cell_type": "code",
   "execution_count": 21,
   "id": "223b9395",
   "metadata": {},
   "outputs": [
    {
     "name": "stdout",
     "output_type": "stream",
     "text": [
      "(16392, 48209)\n",
      "(16392,)\n"
     ]
    }
   ],
   "source": [
    "print(X_train.shape)\n",
    "print(Y_train.shape)"
   ]
  },
  {
   "cell_type": "markdown",
   "id": "89246211",
   "metadata": {},
   "source": [
    "The model has an accuracy score of 0.84. This sets the baseline score at 0.84. This means that the model that I have to build for the classification has to have a score higher than 0.84 to be considered a success."
   ]
  },
  {
   "cell_type": "code",
   "execution_count": 22,
   "id": "b684e1c2",
   "metadata": {},
   "outputs": [],
   "source": [
    "# helper function to predict text sentiment using MNB\n",
    "def predictMNB(text):\n",
    "    lemma = lemmatize_func(text)\n",
    "    token = vectorizer.transform([lemma])\n",
    "    pred = MNB.predict(token)\n",
    "    return pred"
   ]
  },
  {
   "cell_type": "markdown",
   "id": "4de34b1a",
   "metadata": {},
   "source": [
    "### Classification approach\n",
    "For my classification approach, I will build a deep neural network. The objective of this neural network is to successfully perform better than the baseline model and be able to successfully classify the sentiments of the texts. Naturally, a deep neural network is able to perform better than any pre built models hence, my decision to build a neural network for the sentiment analysis"
   ]
  },
  {
   "cell_type": "code",
   "execution_count": 23,
   "id": "b409360c",
   "metadata": {},
   "outputs": [],
   "source": [
    "# import the relevant libraries\n",
    "import tensorflow as tf\n",
    "from keras.models import Sequential\n",
    "from keras import layers,models\n",
    "from sklearn.preprocessing import OneHotEncoder\n",
    "from sklearn.model_selection import train_test_split \n",
    "from sklearn.preprocessing import LabelBinarizer"
   ]
  },
  {
   "cell_type": "markdown",
   "id": "1abe6d24",
   "metadata": {},
   "source": [
    "The neural network is only able to process numeric objects thus, we have to convert the labels from string to numeric type for the neural network to work. I will use LabelBinarizer to assist in converting the labels."
   ]
  },
  {
   "cell_type": "code",
   "execution_count": 24,
   "id": "55a166b3",
   "metadata": {},
   "outputs": [],
   "source": [
    "# converting the labels into useable type\n",
    "lb = LabelBinarizer()\n",
    "Y_train_bin = lb.fit_transform(Y_train)\n",
    "Y_test_bin = lb.transform(Y_test)"
   ]
  },
  {
   "cell_type": "markdown",
   "id": "86f5e3d8",
   "metadata": {},
   "source": [
    "Below shows the different distinct type of labels."
   ]
  },
  {
   "cell_type": "code",
   "execution_count": 25,
   "id": "7fde3b84",
   "metadata": {
    "scrolled": true
   },
   "outputs": [
    {
     "data": {
      "text/plain": [
       "array(['Negative', 'Neutral', 'Positive'], dtype='<U8')"
      ]
     },
     "execution_count": 25,
     "metadata": {},
     "output_type": "execute_result"
    }
   ],
   "source": [
    "lb.classes_"
   ]
  },
  {
   "cell_type": "code",
   "execution_count": 26,
   "id": "9771cb92",
   "metadata": {},
   "outputs": [],
   "source": [
    "shape=X_train.shape[1]"
   ]
  },
  {
   "cell_type": "markdown",
   "id": "2fcf1f7b",
   "metadata": {},
   "source": [
    "The neural network consists of four dense layers with relu activation. Each dense layer is followed by a dropout layer. The output layer is a dense layer that uses a softmax activation and a value of three because the model is used for a multi label classification problem with three different type of labels, Negative, Neutral and Positive."
   ]
  },
  {
   "cell_type": "code",
   "execution_count": 27,
   "id": "87642b81",
   "metadata": {},
   "outputs": [],
   "source": [
    "# building network\n",
    "model = Sequential()\n",
    "model.add(layers.Dense(64, activation = \"relu\", input_shape=(shape,))),\n",
    "model.add(layers.Dropout(0.8)),\n",
    "model.add(layers.Dense(64, activation = \"relu\")),\n",
    "model.add(layers.Dropout(0.2)),\n",
    "model.add(layers.Dense(18, activation = \"relu\")),\n",
    "model.add(layers.Dropout(0.2)),\n",
    "model.add(layers.Dense(3,activation = \"softmax\"))\n"
   ]
  },
  {
   "cell_type": "code",
   "execution_count": 28,
   "id": "cae1ae53",
   "metadata": {},
   "outputs": [
    {
     "name": "stdout",
     "output_type": "stream",
     "text": [
      "Model: \"sequential\"\n",
      "_________________________________________________________________\n",
      " Layer (type)                Output Shape              Param #   \n",
      "=================================================================\n",
      " dense (Dense)               (None, 64)                3085440   \n",
      "                                                                 \n",
      " dropout (Dropout)           (None, 64)                0         \n",
      "                                                                 \n",
      " dense_1 (Dense)             (None, 64)                4160      \n",
      "                                                                 \n",
      " dropout_1 (Dropout)         (None, 64)                0         \n",
      "                                                                 \n",
      " dense_2 (Dense)             (None, 18)                1170      \n",
      "                                                                 \n",
      " dropout_2 (Dropout)         (None, 18)                0         \n",
      "                                                                 \n",
      " dense_3 (Dense)             (None, 3)                 57        \n",
      "                                                                 \n",
      "=================================================================\n",
      "Total params: 3,090,827\n",
      "Trainable params: 3,090,827\n",
      "Non-trainable params: 0\n",
      "_________________________________________________________________\n"
     ]
    }
   ],
   "source": [
    "model.summary()"
   ]
  },
  {
   "cell_type": "markdown",
   "id": "1c72e589",
   "metadata": {},
   "source": [
    "Model is compiled with adam optimizer and uses a categorical_crossentropy for its loss function."
   ]
  },
  {
   "cell_type": "code",
   "execution_count": 29,
   "id": "905b70b9",
   "metadata": {},
   "outputs": [],
   "source": [
    "model.compile(\n",
    "    optimizer = 'adam',\n",
    "    loss = 'categorical_crossentropy',\n",
    "    metrics=['accuracy']\n",
    ")"
   ]
  },
  {
   "cell_type": "markdown",
   "id": "8ca91ad1",
   "metadata": {},
   "source": [
    "Model is trained for 5 epochs"
   ]
  },
  {
   "cell_type": "code",
   "execution_count": 30,
   "id": "fbbb0926",
   "metadata": {},
   "outputs": [
    {
     "name": "stdout",
     "output_type": "stream",
     "text": [
      "Epoch 1/5\n"
     ]
    },
    {
     "name": "stderr",
     "output_type": "stream",
     "text": [
      "C:\\Users\\Imaddin\\anaconda3\\lib\\site-packages\\tensorflow\\python\\framework\\indexed_slices.py:444: UserWarning: Converting sparse IndexedSlices(IndexedSlices(indices=Tensor(\"gradient_tape/sequential/dense/embedding_lookup_sparse/Reshape_1:0\", shape=(None,), dtype=int32), values=Tensor(\"gradient_tape/sequential/dense/embedding_lookup_sparse/Reshape:0\", shape=(None, 64), dtype=float32), dense_shape=Tensor(\"gradient_tape/sequential/dense/embedding_lookup_sparse/Cast:0\", shape=(2,), dtype=int32))) to a dense Tensor of unknown shape. This may consume a large amount of memory.\n",
      "  warnings.warn(\n"
     ]
    },
    {
     "name": "stdout",
     "output_type": "stream",
     "text": [
      "513/513 [==============================] - 18s 33ms/step - loss: 0.6041 - accuracy: 0.7745\n",
      "Epoch 2/5\n",
      "513/513 [==============================] - 17s 34ms/step - loss: 0.4559 - accuracy: 0.8342\n",
      "Epoch 3/5\n",
      "513/513 [==============================] - 17s 34ms/step - loss: 0.4198 - accuracy: 0.8404\n",
      "Epoch 4/5\n",
      "513/513 [==============================] - 17s 34ms/step - loss: 0.3924 - accuracy: 0.8466\n",
      "Epoch 5/5\n",
      "513/513 [==============================] - 18s 34ms/step - loss: 0.3704 - accuracy: 0.8512\n"
     ]
    }
   ],
   "source": [
    "history=model.fit(X_train, Y_train_bin, epochs = 5)"
   ]
  },
  {
   "cell_type": "markdown",
   "id": "c8fd1a75",
   "metadata": {},
   "source": [
    "## 3. Conclusions"
   ]
  },
  {
   "cell_type": "markdown",
   "id": "a3fb35bc",
   "metadata": {},
   "source": [
    "### Evaluation"
   ]
  },
  {
   "cell_type": "markdown",
   "id": "75816a29",
   "metadata": {},
   "source": [
    "For the evaluation, I will use the classificiation report and confusion matrix that will display the precison, recall, f1 score and accuracy of the model. I will also perform an example of using the model to evaluate a custom review to determine its sentiment. First I will evaluate the baseline model, followed by the deep neural model"
   ]
  },
  {
   "cell_type": "code",
   "execution_count": 31,
   "id": "5f877526",
   "metadata": {},
   "outputs": [],
   "source": [
    "import sklearn\n",
    "from sklearn.metrics import classification_report, confusion_matrix\n",
    "import numpy as np"
   ]
  },
  {
   "cell_type": "markdown",
   "id": "0f36c64b",
   "metadata": {},
   "source": [
    "#### Evaluation and comparison of the models"
   ]
  },
  {
   "cell_type": "code",
   "execution_count": 32,
   "id": "9dd74477",
   "metadata": {
    "scrolled": false
   },
   "outputs": [
    {
     "name": "stdout",
     "output_type": "stream",
     "text": [
      "129/129 [==============================] - 0s 2ms/step\n"
     ]
    }
   ],
   "source": [
    "pred_dnn = model.predict(X_test)"
   ]
  },
  {
   "cell_type": "code",
   "execution_count": 33,
   "id": "9b2fc6cd",
   "metadata": {},
   "outputs": [
    {
     "name": "stdout",
     "output_type": "stream",
     "text": [
      "Classification report for baseline: \n",
      "\n",
      "               precision    recall  f1-score   support\n",
      "\n",
      "    Negative       0.78      0.74      0.76       647\n",
      "     Neutral       0.27      0.06      0.10       420\n",
      "    Positive       0.87      0.97      0.92      3032\n",
      "\n",
      "    accuracy                           0.84      4099\n",
      "   macro avg       0.64      0.59      0.59      4099\n",
      "weighted avg       0.79      0.84      0.81      4099\n",
      "\n",
      "Classification report for deep neural network: \n",
      "\n",
      "               precision    recall  f1-score   support\n",
      "\n",
      "           0       0.73      0.82      0.77       647\n",
      "           1       0.46      0.04      0.07       420\n",
      "           2       0.89      0.98      0.93      3032\n",
      "\n",
      "    accuracy                           0.86      4099\n",
      "   macro avg       0.69      0.61      0.59      4099\n",
      "weighted avg       0.82      0.86      0.82      4099\n",
      "\n"
     ]
    }
   ],
   "source": [
    "Y_labels = np.argmax(Y_test_bin, axis=1)\n",
    "predDnn_labels = np.argmax(pred_dnn, axis=1)\n",
    "conf_mat = confusion_matrix(Y_labels,predDnn_labels)\n",
    "print(\"Classification report for baseline: \\n\\n\", classification_report(Y_test, predictedMNB))\n",
    "print(\"Classification report for deep neural network: \\n\\n\",classification_report(Y_labels, predDnn_labels))"
   ]
  },
  {
   "cell_type": "markdown",
   "id": "9445b1c6",
   "metadata": {},
   "source": [
    "From the classification report of the models above we can compare the performance of the models. For the comparison I will use the macro avg value to compare the precision, recall and f1-score\n",
    "\n",
    "The average precision score of the baseline model is 0.64 whereas the average precision score for the deep neural network is 0.69. The deep neural network has a better precision than the baseline from this comparison. This means that the deep neural network is more precise at classifying its predictions.\n",
    "\n",
    "For recall score, the deep neural network has a higher average recall score than the baseline model with a score of 0.61 over the baseline model's score of 0.59. Again the deep neural network performs better than the baseline model. This means that the neural network has a better rate of correct predicitions than the baseline model\n",
    "\n",
    "The average f1 score of the baseline model is 0.59 and the deep neural network is also 0.59. This means that both models have the same level of balance between its classes.\n",
    "\n",
    "Lastly, the accuracy of the baseline model is 0.84 and the accuracy of the deep neural network model is 0.86. The deep neural network is more accurate than the baseline model. \n",
    "\n",
    "To summarise the findings here, the deep neural network outperforms the baseline model in almost every aspect of the evaluation metrics. From this, I can safely say that the deep neural network is a success as it performs better than the baseline and that I have met my objective that I set out to create a model that is better than the baseline."
   ]
  },
  {
   "cell_type": "markdown",
   "id": "6d5cc76e",
   "metadata": {},
   "source": [
    "The output below shows the confusion matrix of the deep neural network model"
   ]
  },
  {
   "cell_type": "code",
   "execution_count": 34,
   "id": "ec2d54d2",
   "metadata": {
    "scrolled": true
   },
   "outputs": [
    {
     "data": {
      "text/plain": [
       "<Figure size 576x432 with 0 Axes>"
      ]
     },
     "metadata": {},
     "output_type": "display_data"
    },
    {
     "data": {
      "image/png": "[encoded data removed]",
      "text/plain": [
       "<Figure size 432x288 with 2 Axes>"
      ]
     },
     "metadata": {
      "needs_background": "light"
     },
     "output_type": "display_data"
    }
   ],
   "source": [
    "# print confusion matrix\n",
    "import seaborn as sns\n",
    "import matplotlib.pyplot as plt\n",
    "from sklearn import metrics\n",
    "\n",
    "plt.figure(figsize=(8,6))\n",
    "display=metrics.ConfusionMatrixDisplay(confusion_matrix = conf_mat, display_labels=lb.classes_)\n",
    "display.plot()\n",
    "plt.show()"
   ]
  },
  {
   "cell_type": "markdown",
   "id": "0bfc95c5",
   "metadata": {},
   "source": [
    "#### Example of sentiment prediction on custom reviews"
   ]
  },
  {
   "cell_type": "code",
   "execution_count": 35,
   "id": "83fd9ca5",
   "metadata": {},
   "outputs": [],
   "source": [
    "# helper function to predict text sentiment using the neural network\n",
    "def sent_pred(text):\n",
    "    lemma = lemmatize_func(text)\n",
    "    clean = vectorizer.transform([lemma])\n",
    "    pred = model.predict(clean)\n",
    "    result = lb.inverse_transform(pred)[0]\n",
    "    return result"
   ]
  },
  {
   "cell_type": "markdown",
   "id": "2033c5e1",
   "metadata": {},
   "source": [
    "The text below is expected to have a neutral sentiment. The neural network model correctly predicts the sentiment but the baseline model wrongly predicts the sentiment of the review."
   ]
  },
  {
   "cell_type": "code",
   "execution_count": 40,
   "id": "7f0fcf0c",
   "metadata": {},
   "outputs": [
    {
     "name": "stdout",
     "output_type": "stream",
     "text": [
      "1/1 [==============================] - 0s 8ms/step\n",
      "Neural network prediction:  Neutral\n",
      "Baseline model prediction:  ['Positive']\n"
     ]
    }
   ],
   "source": [
    "text = \"Good food but location is too far\"\n",
    "print(\"Neural network prediction: \", sent_pred(text))\n",
    "print(\"Baseline model prediction: \", predictMNB(text))"
   ]
  },
  {
   "cell_type": "markdown",
   "id": "d7161e4f",
   "metadata": {},
   "source": [
    "The text below is expected to have a positive sentiment. Both the neural network model and baseline model correctly predicts the sentiment."
   ]
  },
  {
   "cell_type": "code",
   "execution_count": 37,
   "id": "bcdabb04",
   "metadata": {
    "scrolled": true
   },
   "outputs": [
    {
     "name": "stdout",
     "output_type": "stream",
     "text": [
      "1/1 [==============================] - 0s 15ms/step\n",
      "Neural network prediction:  Positive\n",
      "Baseline model prediction:  ['Positive']\n"
     ]
    }
   ],
   "source": [
    "text2 = \"This place is great\"\n",
    "print(\"Neural network prediction: \", sent_pred(text2))\n",
    "print(\"Baseline model prediction: \", predictMNB(text2))"
   ]
  },
  {
   "cell_type": "markdown",
   "id": "b6246ca5",
   "metadata": {},
   "source": [
    "The text below is expected to have a negative sentiment. The neural network model correctly predicts the sentiment but the baseline model wrongly predicts the sentiment of the review"
   ]
  },
  {
   "cell_type": "code",
   "execution_count": 38,
   "id": "fd2397d8",
   "metadata": {
    "scrolled": true
   },
   "outputs": [
    {
     "name": "stdout",
     "output_type": "stream",
     "text": [
      "1/1 [==============================] - 0s 15ms/step\n",
      "Neural network prediction:  Negative\n",
      "Baseline model prediction:  ['Positive']\n"
     ]
    }
   ],
   "source": [
    "text4 = \"I hate this place bad service all round\"\n",
    "print(\"Neural network prediction: \", sent_pred(text4))\n",
    "print(\"Baseline model prediction: \", predictMNB(text4))"
   ]
  },
  {
   "cell_type": "markdown",
   "id": "2ac51d0d",
   "metadata": {},
   "source": [
    "From the above comparisons done, it again shows that the neural network performs better than the baseline model. I can confidently conclude that the neural network model is better than the baseline model and that it is a success."
   ]
  },
  {
   "cell_type": "markdown",
   "id": "38c4fd32",
   "metadata": {},
   "source": [
    "### Summary and conclusions"
   ]
  },
  {
   "cell_type": "markdown",
   "id": "7b351140",
   "metadata": {},
   "source": [
    "In light of the results obtained, the model can be used in the tourism industry by business owners to evaluate the sentiments of the reviews done by their customers or visitors. Through this, they will be able to quickly derive the sentiment and improve their business accordingly if they had a bad review. Another domain which this model can be applied to and potentially assist is the food and beverage industry where this model can be applied to evaluate the sentiment of their reviewers and improve their food and service accordingly.\n",
    "\n",
    "In conclusion, from the evaluations made, this model that I have created is a success as it can classify the sentiments of the reviews successfully at a high accuracy. I am satisfied with its performance and I believe that it can help with the interested parties in their needs. Given more time and resources, the improvements that I would make to increase its performance is by increasing the number of layers and the number of training epochs and combining a Long Short Term Memory (LSTM) model into this current model would definitely increase the performance of this model. LSTM is a recurrent neural network that is designed suitable for sentiment analysis."
   ]
  },
  {
   "cell_type": "markdown",
   "id": "47a94df7",
   "metadata": {},
   "source": [
    "## References"
   ]
  },
  {
   "cell_type": "markdown",
   "id": "f23b0f20",
   "metadata": {},
   "source": [
    "1 Covid-19 is no longer global health emergency: WHO. (2023). The Straits Times. [online] 5 May. Available at: https://www.straitstimes.com/world/europe/covid-19-is-no-longer-global-health-emergency-who.\n",
    "\n",
    "2 www.kaggle.com. (n.d.). Trip Advisor Hotel Reviews. [online] Available at: https://www.kaggle.com/datasets/andrewmvd/trip-advisor-hotel-reviews."
   ]
  }
 ],
 "metadata": {
  "kernelspec": {
   "display_name": "Python 3 (ipykernel)",
   "language": "python",
   "name": "python3"
  },
  "language_info": {
   "codemirror_mode": {
    "name": "ipython",
    "version": 3
   },
   "file_extension": ".py",
   "mimetype": "text/x-python",
   "name": "python",
   "nbconvert_exporter": "python",
   "pygments_lexer": "ipython3",
   "version": "3.9.7"
  }
 },
 "nbformat": 4,
 "nbformat_minor": 5
}
