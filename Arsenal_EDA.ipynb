{
 "cells": [
  {
   "cell_type": "markdown",
   "id": "538ab026",
   "metadata": {},
   "source": [
    "# An analysis on Arteta's tenure at Arsenal (2023 Update)"
   ]
  },
  {
   "cell_type": "markdown",
   "id": "efc996d2",
   "metadata": {},
   "source": [
    "# 1.Introduction\n",
    "\n",
    "The English Premier League is one of the biggest football leagues and is known throughout the world. With twenty English clubs contesting for the coveted Premier League trophy every season, the league produces many famous football teams with huge fanbases present in every corner of the world which is rapidly increasing. One football club in particular which has a great history in the league but has struggled in recent times and is in the process of rebuilding is Arsenal Football Club. Ever since the departure of long time coach, Arsene Wenger in 2018, Arsenal have underperformed and has gone through 2 changes in the managerial postion. Currently in his third full season with Arsenal, Mikel Arteta is doing a commendable job thus far in guiding the club back to its former glory, finishing 5th in the league in the latest season(21/22 season at the time of writing) just one place away from securing a spot in the prestigious Champions League Competition. As such, I would like to explore how well has Mikel Arteta fared so far as the manager of Arsenal.\n"
   ]
  },
  {
   "cell_type": "markdown",
   "id": "d653ea89",
   "metadata": {},
   "source": [
    "# 2 Aims and objectives\n",
    "\n",
    "As mentioned above, my aims and objectives for this project are:\n",
    "- Finding out if there were any improvements to the team over the three seasons Arteta has been in charge\n",
    "- How similar are Arteta and Jurgen Klopp in their first three seasons at their respective clubs\n",
    "- Areas where Arsenal can improve\n",
    "- What we can expect from Arsenal for the upcoming season"
   ]
  },
  {
   "cell_type": "code",
   "execution_count": 1,
   "id": "8726fbe4",
   "metadata": {},
   "outputs": [],
   "source": [
    "# Import libraries and modules\n",
    "from bs4 import *\n",
    "import urllib3\n",
    "import pandas as pd\n",
    "import requests\n",
    "from scrape_helper import *\n",
    "import matplotlib.pyplot as plt\n",
    "import numpy as np"
   ]
  },
  {
   "cell_type": "markdown",
   "id": "57529e43",
   "metadata": {},
   "source": [
    "# 3 Data\n",
    "## 3.1 Data Requirements\n",
    "For this project, I need the statistics of the club over the past three seasons as it is the period that Mikel Arteta has been in charge of the club. The data must be reliable and does not breach data policy of websites.\n",
    "\n",
    "To measure the progress of Arteta, I have decided to use Liverpool's manager Jurgen Klopp's first three seasons at Liverpool as a comparison to measure how well Arteta has performed.\n",
    "## 3.2 Choice of data\n",
    "For reliable data, I have chosen to retrieve the statistics from wikipedia. \n",
    "Since I am only interested in the tenure of Mikel Arteta, the statistics only contain the statistics of Arsenal in his three seasons in charge and the statistics of Liverpool will only contain statistics of Jurgen Klopp's first three seasons in charge of Liverpool\n",
    "## 3.3 Limitations and constraints of data\n",
    "### 3.3.1 Time periods covered by the statistics and data size\n",
    "If the statistics could contain more than three seasons, it would yield a more meaningful and accurate reflection of Arteta's progress with Arsenal. However, since he only had three seasons under his belt, there is no possible way for me attain more than three seasons. Given time, I would like to have compare the team with many other clubs.\n",
    "### 3.3.2 Difference in time periods covered by the statistics\n",
    "Arteta only came in charge of Arsenal in 2019, whereas Jurgen Klopp took helm of Liverpool in 2015. As such, the first three seasons of both managers will be of different time periods.\n",
    "\n",
    "The competitiveness of the league through the different seasons may have been different in contributing to the performance of the clubs therefore, it may not be a fair comparison.\n",
    "\n",
    "\n"
   ]
  },
  {
   "cell_type": "markdown",
   "id": "21f1dc42",
   "metadata": {},
   "source": [
    "# 4 Ethical Considerations\n",
    "### 4.1 Use of statistics\n",
    "Wikipedia does not forbid the use of webscraping. It mentions in its disclaimer that the information provided here is provided freely and that I am granted a limited license to copy anything from their site.[1] \n",
    "### 4.2 Onward use of my analysis and data\n",
    "Any entity who would want to use my data would be able to do so freely because wikipedia does not forbid the useage of their data.\n",
    "\n",
    "The assumptions and analysis are soley of my own and does not reflect the assumptions of others\n",
    "\n",
    "### 4.3 Potential outcomes of using my project for analysis\n",
    "Since the data that I have used are as of the latest season which had just ended (21/22 season at the time of working on this project), someone from the future would have been able to access data from their present thus, not reflecting an accurate depiction of the analysis for their situation."
   ]
  },
  {
   "cell_type": "markdown",
   "id": "bace933d",
   "metadata": {},
   "source": [
    "## 5 Webscraping Statistics\n",
    "### 5.1 Webscraping Arsenal Statistics from Wikipedia\n",
    "The function below extracts statistics of Arsenal from the table in Wikipedia"
   ]
  },
  {
   "cell_type": "code",
   "execution_count": 2,
   "id": "15aa84df",
   "metadata": {},
   "outputs": [],
   "source": [
    "url = \"https://en.wikipedia.org/wiki/List_of_Arsenal_F.C._seasons\"\n",
    "http = urllib3.PoolManager()\n",
    "response = http.request('GET', url)\n",
    "page = BeautifulSoup(response.data, \"lxml\")\n",
    "\n",
    "# Extract table\n",
    "table = page.find('table', {'class': 'wikitable sortable'})\n",
    "df = tableToDataFrame(table)\n",
    "mydf=df.tail(4)\n"
   ]
  },
  {
   "cell_type": "markdown",
   "id": "b8c5f379",
   "metadata": {},
   "source": [
    "### 5.2 Webscraping Liverpool Statistics from Wikipedia\n",
    "The function below extracts statistics of Liverpool from the table in Wikipedia"
   ]
  },
  {
   "cell_type": "code",
   "execution_count": 3,
   "id": "04059f7b",
   "metadata": {
    "scrolled": true
   },
   "outputs": [],
   "source": [
    "url2 = \"https://en.wikipedia.org/wiki/List_of_Liverpool_F.C._seasons\"\n",
    "http2 = urllib3.PoolManager()\n",
    "response2 = requests.get(url2)\n",
    "page2 = BeautifulSoup(response2.text, \"html.parser\")\n",
    "\n",
    "# Extract table\n",
    "table2 = page2.find('table', {'class': 'wikitable plainrowheaders sortable'})\n",
    "\n",
    "df2 = pd.read_html(str(table2))\n",
    "df2 = pd.DataFrame(df2[0])\n",
    "mydf2 = df2[116:120]"
   ]
  },
  {
   "cell_type": "markdown",
   "id": "f6479126",
   "metadata": {},
   "source": [
    "## 6 Data Cleaning and processing\n",
    "The following function will clean the data obtained from scraping by removing characters such as ♦ and alphabets in numbers such as 1st by removing the 'st'. "
   ]
  },
  {
   "cell_type": "code",
   "execution_count": 4,
   "id": "4026dd5c",
   "metadata": {},
   "outputs": [],
   "source": [
    "#The function for cleaning the data\n",
    "def stripChar(text):\n",
    "    f = text.find(\"th\")\n",
    "    g = text.find(\"nd\")\n",
    "    h = text.find(\"♦\")\n",
    "    i = text.find(\"st\")\n",
    "    if f>=0:\n",
    "        text = text[:f]\n",
    "    if g>=0:\n",
    "        text = text[:g]\n",
    "    if h>=0:\n",
    "        text = text[:h]\n",
    "    if i>0:\n",
    "        text = text[:i]\n",
    "    return text\n",
    "# Applying the function on the data\n",
    "mydf = mydf.applymap(stripChar)\n",
    "mydf2 = mydf2.applymap(stripChar)\n",
    "# Cleaning the columns of mydf2\n",
    "mydf2.columns = (\"Season\", \"Division\", \"Pld\", \"W\", \"D\", \"L\", \"GF\", \"GA\", \"Pts\", \"Pos\", \"FA Cup\", \"League Cup\", \"Comm. Shield\", \"UCL\", \"UEL\", \"CWC\", \"Super Cup\", \"Club World Cup\", \"Player(s)\", \"Goals\")"
   ]
  },
  {
   "cell_type": "markdown",
   "id": "dd4abfd6",
   "metadata": {},
   "source": [
    "### 6.1 Check the cleaned and processed data"
   ]
  },
  {
   "cell_type": "code",
   "execution_count": 5,
   "id": "762abb7f",
   "metadata": {},
   "outputs": [
    {
     "data": {
      "text/html": [
       "<div>\n",
       "<style scoped>\n",
       "    .dataframe tbody tr th:only-of-type {\n",
       "        vertical-align: middle;\n",
       "    }\n",
       "\n",
       "    .dataframe tbody tr th {\n",
       "        vertical-align: top;\n",
       "    }\n",
       "\n",
       "    .dataframe thead th {\n",
       "        text-align: right;\n",
       "    }\n",
       "</style>\n",
       "<table border=\"1\" class=\"dataframe\">\n",
       "  <thead>\n",
       "    <tr style=\"text-align: right;\">\n",
       "      <th></th>\n",
       "      <th>Index</th>\n",
       "      <th>Season</th>\n",
       "      <th>Division</th>\n",
       "      <th>Pld</th>\n",
       "      <th>W</th>\n",
       "      <th>D</th>\n",
       "      <th>L</th>\n",
       "      <th>GF</th>\n",
       "      <th>GA</th>\n",
       "      <th>Pts</th>\n",
       "      <th>Pos</th>\n",
       "      <th>FA Cup</th>\n",
       "      <th>League</th>\n",
       "      <th>Community</th>\n",
       "      <th>Competition</th>\n",
       "      <th>Result</th>\n",
       "      <th>Player(s)</th>\n",
       "      <th>Goals</th>\n",
       "    </tr>\n",
       "  </thead>\n",
       "  <tbody>\n",
       "    <tr>\n",
       "      <th>126</th>\n",
       "      <td></td>\n",
       "      <td>2019–20</td>\n",
       "      <td>Prem</td>\n",
       "      <td>38</td>\n",
       "      <td>14</td>\n",
       "      <td>14</td>\n",
       "      <td>10</td>\n",
       "      <td>56</td>\n",
       "      <td>48</td>\n",
       "      <td>56</td>\n",
       "      <td>8</td>\n",
       "      <td>W</td>\n",
       "      <td>R4</td>\n",
       "      <td>—</td>\n",
       "      <td>Europa League</td>\n",
       "      <td>R32</td>\n",
       "      <td>Pierre-Emerick Aubameyang</td>\n",
       "      <td>29</td>\n",
       "    </tr>\n",
       "    <tr>\n",
       "      <th>127</th>\n",
       "      <td></td>\n",
       "      <td>2020–21</td>\n",
       "      <td>Prem</td>\n",
       "      <td>38</td>\n",
       "      <td>18</td>\n",
       "      <td>7</td>\n",
       "      <td>13</td>\n",
       "      <td>55</td>\n",
       "      <td>39</td>\n",
       "      <td>61</td>\n",
       "      <td>8</td>\n",
       "      <td>R4</td>\n",
       "      <td>QF</td>\n",
       "      <td>W</td>\n",
       "      <td>Europa League</td>\n",
       "      <td>SF</td>\n",
       "      <td>Alexa</td>\n",
       "      <td>17</td>\n",
       "    </tr>\n",
       "    <tr>\n",
       "      <th>128</th>\n",
       "      <td></td>\n",
       "      <td>2021–22</td>\n",
       "      <td>Prem</td>\n",
       "      <td>38</td>\n",
       "      <td>22</td>\n",
       "      <td>3</td>\n",
       "      <td>13</td>\n",
       "      <td>61</td>\n",
       "      <td>48</td>\n",
       "      <td>69</td>\n",
       "      <td>5</td>\n",
       "      <td>R3</td>\n",
       "      <td>SF</td>\n",
       "      <td>—</td>\n",
       "      <td>—</td>\n",
       "      <td>—</td>\n",
       "      <td>Bukayo Saka</td>\n",
       "      <td>12</td>\n",
       "    </tr>\n",
       "    <tr>\n",
       "      <th>129</th>\n",
       "      <td></td>\n",
       "      <td>2022–23</td>\n",
       "      <td>Prem</td>\n",
       "      <td>38</td>\n",
       "      <td>26</td>\n",
       "      <td>6</td>\n",
       "      <td>6</td>\n",
       "      <td>88</td>\n",
       "      <td>43</td>\n",
       "      <td>84</td>\n",
       "      <td>2</td>\n",
       "      <td>R4</td>\n",
       "      <td>R3</td>\n",
       "      <td>—</td>\n",
       "      <td>Europa League</td>\n",
       "      <td>R16</td>\n",
       "      <td>Gabriel MartinelliMartin ØdegaardBukayo Saka</td>\n",
       "      <td>15</td>\n",
       "    </tr>\n",
       "  </tbody>\n",
       "</table>\n",
       "</div>"
      ],
      "text/plain": [
       "    Index   Season Division Pld   W   D   L  GF  GA Pts Pos FA Cup League  \\\n",
       "126        2019–20     Prem  38  14  14  10  56  48  56   8      W     R4   \n",
       "127        2020–21     Prem  38  18   7  13  55  39  61   8     R4     QF   \n",
       "128        2021–22     Prem  38  22   3  13  61  48  69   5     R3     SF   \n",
       "129        2022–23     Prem  38  26   6   6  88  43  84   2     R4     R3   \n",
       "\n",
       "    Community    Competition Result  \\\n",
       "126         —  Europa League    R32   \n",
       "127         W  Europa League     SF   \n",
       "128         —              —      —   \n",
       "129         —  Europa League    R16   \n",
       "\n",
       "                                        Player(s) Goals  \n",
       "126                     Pierre-Emerick Aubameyang    29  \n",
       "127                                         Alexa    17  \n",
       "128                                   Bukayo Saka    12  \n",
       "129  Gabriel MartinelliMartin ØdegaardBukayo Saka    15  "
      ]
     },
     "execution_count": 5,
     "metadata": {},
     "output_type": "execute_result"
    }
   ],
   "source": [
    "mydf"
   ]
  },
  {
   "cell_type": "code",
   "execution_count": 6,
   "id": "ff9113a7",
   "metadata": {},
   "outputs": [
    {
     "data": {
      "text/html": [
       "<div>\n",
       "<style scoped>\n",
       "    .dataframe tbody tr th:only-of-type {\n",
       "        vertical-align: middle;\n",
       "    }\n",
       "\n",
       "    .dataframe tbody tr th {\n",
       "        vertical-align: top;\n",
       "    }\n",
       "\n",
       "    .dataframe thead th {\n",
       "        text-align: right;\n",
       "    }\n",
       "</style>\n",
       "<table border=\"1\" class=\"dataframe\">\n",
       "  <thead>\n",
       "    <tr style=\"text-align: right;\">\n",
       "      <th></th>\n",
       "      <th>Season</th>\n",
       "      <th>Division</th>\n",
       "      <th>Pld</th>\n",
       "      <th>W</th>\n",
       "      <th>D</th>\n",
       "      <th>L</th>\n",
       "      <th>GF</th>\n",
       "      <th>GA</th>\n",
       "      <th>Pts</th>\n",
       "      <th>Pos</th>\n",
       "      <th>FA Cup</th>\n",
       "      <th>League Cup</th>\n",
       "      <th>Comm. Shield</th>\n",
       "      <th>UCL</th>\n",
       "      <th>UEL</th>\n",
       "      <th>CWC</th>\n",
       "      <th>Super Cup</th>\n",
       "      <th>Club World Cup</th>\n",
       "      <th>Player(s)</th>\n",
       "      <th>Goals</th>\n",
       "    </tr>\n",
       "  </thead>\n",
       "  <tbody>\n",
       "    <tr>\n",
       "      <th>116</th>\n",
       "      <td>2016–17</td>\n",
       "      <td>PL</td>\n",
       "      <td>38</td>\n",
       "      <td>22</td>\n",
       "      <td>10</td>\n",
       "      <td>6</td>\n",
       "      <td>78</td>\n",
       "      <td>42</td>\n",
       "      <td>76</td>\n",
       "      <td>4</td>\n",
       "      <td>R4</td>\n",
       "      <td>SF</td>\n",
       "      <td>—</td>\n",
       "      <td>—</td>\n",
       "      <td>—</td>\n",
       "      <td>—</td>\n",
       "      <td>—</td>\n",
       "      <td>—</td>\n",
       "      <td>Philippe Coutinho</td>\n",
       "      <td>14</td>\n",
       "    </tr>\n",
       "    <tr>\n",
       "      <th>117</th>\n",
       "      <td>2017–18</td>\n",
       "      <td>PL</td>\n",
       "      <td>38</td>\n",
       "      <td>21</td>\n",
       "      <td>12</td>\n",
       "      <td>5</td>\n",
       "      <td>84</td>\n",
       "      <td>38</td>\n",
       "      <td>75</td>\n",
       "      <td>4</td>\n",
       "      <td>R4</td>\n",
       "      <td>R3</td>\n",
       "      <td>—</td>\n",
       "      <td>RU</td>\n",
       "      <td>—</td>\n",
       "      <td>—</td>\n",
       "      <td>—</td>\n",
       "      <td>—</td>\n",
       "      <td>Mohamed Salah[p]</td>\n",
       "      <td>44</td>\n",
       "    </tr>\n",
       "    <tr>\n",
       "      <th>118</th>\n",
       "      <td>2018–19</td>\n",
       "      <td>PL</td>\n",
       "      <td>38</td>\n",
       "      <td>30</td>\n",
       "      <td>7</td>\n",
       "      <td>1</td>\n",
       "      <td>89</td>\n",
       "      <td>22</td>\n",
       "      <td>97</td>\n",
       "      <td>2</td>\n",
       "      <td>R3</td>\n",
       "      <td>R3</td>\n",
       "      <td>—</td>\n",
       "      <td>W</td>\n",
       "      <td>—</td>\n",
       "      <td>—</td>\n",
       "      <td>—</td>\n",
       "      <td>—</td>\n",
       "      <td>Mohamed Salah[q]</td>\n",
       "      <td>27</td>\n",
       "    </tr>\n",
       "    <tr>\n",
       "      <th>119</th>\n",
       "      <td>2019–20</td>\n",
       "      <td>PL</td>\n",
       "      <td>38</td>\n",
       "      <td>32</td>\n",
       "      <td>3</td>\n",
       "      <td>3</td>\n",
       "      <td>85</td>\n",
       "      <td>33</td>\n",
       "      <td>99</td>\n",
       "      <td>1</td>\n",
       "      <td>R5</td>\n",
       "      <td>QF</td>\n",
       "      <td>RU</td>\n",
       "      <td>R16</td>\n",
       "      <td>—</td>\n",
       "      <td>—</td>\n",
       "      <td>W</td>\n",
       "      <td>W</td>\n",
       "      <td>Mohamed Salah</td>\n",
       "      <td>23</td>\n",
       "    </tr>\n",
       "  </tbody>\n",
       "</table>\n",
       "</div>"
      ],
      "text/plain": [
       "      Season Division Pld   W   D  L  GF  GA Pts Pos FA Cup League Cup  \\\n",
       "116  2016–17       PL  38  22  10  6  78  42  76   4     R4         SF   \n",
       "117  2017–18       PL  38  21  12  5  84  38  75   4     R4         R3   \n",
       "118  2018–19       PL  38  30   7  1  89  22  97   2     R3         R3   \n",
       "119  2019–20       PL  38  32   3  3  85  33  99   1     R5         QF   \n",
       "\n",
       "    Comm. Shield  UCL UEL CWC Super Cup Club World Cup          Player(s)  \\\n",
       "116            —    —   —   —         —              —  Philippe Coutinho   \n",
       "117            —   RU   —   —         —              —   Mohamed Salah[p]   \n",
       "118            —    W   —   —         —              —   Mohamed Salah[q]   \n",
       "119           RU  R16   —   —         W              W      Mohamed Salah   \n",
       "\n",
       "    Goals  \n",
       "116    14  \n",
       "117   44   \n",
       "118   27   \n",
       "119    23  "
      ]
     },
     "execution_count": 6,
     "metadata": {},
     "output_type": "execute_result"
    }
   ],
   "source": [
    "mydf2"
   ]
  },
  {
   "cell_type": "markdown",
   "id": "c7f60c9a",
   "metadata": {},
   "source": [
    "## 7 Saving the processed data to CSV files\n",
    "The function below will save the processed data to CSV files "
   ]
  },
  {
   "cell_type": "code",
   "execution_count": 7,
   "id": "878a9ba8",
   "metadata": {},
   "outputs": [],
   "source": [
    "mydf.to_csv('Arsenal4SeasonStats.csv', index=False)\n",
    "mydf2.to_csv('Liverpool4SeasonStats.csv', index=False)"
   ]
  },
  {
   "cell_type": "markdown",
   "id": "352682c8",
   "metadata": {},
   "source": [
    "## 8 Reading the csv files"
   ]
  },
  {
   "cell_type": "code",
   "execution_count": 8,
   "id": "897368e7",
   "metadata": {},
   "outputs": [],
   "source": [
    "mydata = pd.read_csv(\"Arsenal4SeasonStats.csv\")\n",
    "mydata2 = pd.read_csv(\"Liverpool4SeasonStats.csv\")"
   ]
  },
  {
   "cell_type": "markdown",
   "id": "db4c8e05",
   "metadata": {},
   "source": [
    "## 9 Preparing the data for analysis\n",
    "First we have to check if the data is appropriate for use of analysis\n",
    "### 9.1 Check what are the data types\n"
   ]
  },
  {
   "cell_type": "code",
   "execution_count": 9,
   "id": "621a3202",
   "metadata": {},
   "outputs": [
    {
     "data": {
      "text/plain": [
       "Index          float64\n",
       "Season          object\n",
       "Division        object\n",
       "Pld              int64\n",
       "W                int64\n",
       "D                int64\n",
       "L                int64\n",
       "GF               int64\n",
       "GA               int64\n",
       "Pts              int64\n",
       "Pos              int64\n",
       "FA Cup          object\n",
       "League          object\n",
       "Community       object\n",
       "Competition     object\n",
       "Result          object\n",
       "Player(s)       object\n",
       "Goals            int64\n",
       "dtype: object"
      ]
     },
     "execution_count": 9,
     "metadata": {},
     "output_type": "execute_result"
    }
   ],
   "source": [
    "mydata.dtypes"
   ]
  },
  {
   "cell_type": "code",
   "execution_count": 10,
   "id": "966b586b",
   "metadata": {},
   "outputs": [
    {
     "data": {
      "text/plain": [
       "Season            object\n",
       "Division          object\n",
       "Pld                int64\n",
       "W                  int64\n",
       "D                  int64\n",
       "L                  int64\n",
       "GF                 int64\n",
       "GA                 int64\n",
       "Pts                int64\n",
       "Pos                int64\n",
       "FA Cup            object\n",
       "League Cup        object\n",
       "Comm. Shield      object\n",
       "UCL               object\n",
       "UEL               object\n",
       "CWC               object\n",
       "Super Cup         object\n",
       "Club World Cup    object\n",
       "Player(s)         object\n",
       "Goals              int64\n",
       "dtype: object"
      ]
     },
     "execution_count": 10,
     "metadata": {},
     "output_type": "execute_result"
    }
   ],
   "source": [
    "mydata2.dtypes"
   ]
  },
  {
   "cell_type": "markdown",
   "id": "bcd0f376",
   "metadata": {},
   "source": [
    "### 9.2 Convert the data to relevant datatypes for use"
   ]
  },
  {
   "cell_type": "code",
   "execution_count": 11,
   "id": "e3676393",
   "metadata": {
    "scrolled": true
   },
   "outputs": [
    {
     "data": {
      "text/html": [
       "<div>\n",
       "<style scoped>\n",
       "    .dataframe tbody tr th:only-of-type {\n",
       "        vertical-align: middle;\n",
       "    }\n",
       "\n",
       "    .dataframe tbody tr th {\n",
       "        vertical-align: top;\n",
       "    }\n",
       "\n",
       "    .dataframe thead th {\n",
       "        text-align: right;\n",
       "    }\n",
       "</style>\n",
       "<table border=\"1\" class=\"dataframe\">\n",
       "  <thead>\n",
       "    <tr style=\"text-align: right;\">\n",
       "      <th></th>\n",
       "      <th>Index</th>\n",
       "      <th>Season</th>\n",
       "      <th>Division</th>\n",
       "      <th>Pld</th>\n",
       "      <th>W</th>\n",
       "      <th>D</th>\n",
       "      <th>L</th>\n",
       "      <th>GF</th>\n",
       "      <th>GA</th>\n",
       "      <th>Pts</th>\n",
       "      <th>Pos</th>\n",
       "      <th>FA Cup</th>\n",
       "      <th>League</th>\n",
       "      <th>Community</th>\n",
       "      <th>Competition</th>\n",
       "      <th>Result</th>\n",
       "      <th>Player(s)</th>\n",
       "      <th>Goals</th>\n",
       "    </tr>\n",
       "  </thead>\n",
       "  <tbody>\n",
       "    <tr>\n",
       "      <th>0</th>\n",
       "      <td>&lt;NA&gt;</td>\n",
       "      <td>2019–20</td>\n",
       "      <td>Prem</td>\n",
       "      <td>38</td>\n",
       "      <td>14</td>\n",
       "      <td>14</td>\n",
       "      <td>10</td>\n",
       "      <td>56</td>\n",
       "      <td>48</td>\n",
       "      <td>56</td>\n",
       "      <td>8</td>\n",
       "      <td>W</td>\n",
       "      <td>R4</td>\n",
       "      <td>—</td>\n",
       "      <td>Europa League</td>\n",
       "      <td>R32</td>\n",
       "      <td>Pierre-Emerick Aubameyang</td>\n",
       "      <td>29</td>\n",
       "    </tr>\n",
       "    <tr>\n",
       "      <th>1</th>\n",
       "      <td>&lt;NA&gt;</td>\n",
       "      <td>2020–21</td>\n",
       "      <td>Prem</td>\n",
       "      <td>38</td>\n",
       "      <td>18</td>\n",
       "      <td>7</td>\n",
       "      <td>13</td>\n",
       "      <td>55</td>\n",
       "      <td>39</td>\n",
       "      <td>61</td>\n",
       "      <td>8</td>\n",
       "      <td>R4</td>\n",
       "      <td>QF</td>\n",
       "      <td>W</td>\n",
       "      <td>Europa League</td>\n",
       "      <td>SF</td>\n",
       "      <td>Alexa</td>\n",
       "      <td>17</td>\n",
       "    </tr>\n",
       "    <tr>\n",
       "      <th>2</th>\n",
       "      <td>&lt;NA&gt;</td>\n",
       "      <td>2021–22</td>\n",
       "      <td>Prem</td>\n",
       "      <td>38</td>\n",
       "      <td>22</td>\n",
       "      <td>3</td>\n",
       "      <td>13</td>\n",
       "      <td>61</td>\n",
       "      <td>48</td>\n",
       "      <td>69</td>\n",
       "      <td>5</td>\n",
       "      <td>R3</td>\n",
       "      <td>SF</td>\n",
       "      <td>—</td>\n",
       "      <td>—</td>\n",
       "      <td>—</td>\n",
       "      <td>Bukayo Saka</td>\n",
       "      <td>12</td>\n",
       "    </tr>\n",
       "    <tr>\n",
       "      <th>3</th>\n",
       "      <td>&lt;NA&gt;</td>\n",
       "      <td>2022–23</td>\n",
       "      <td>Prem</td>\n",
       "      <td>38</td>\n",
       "      <td>26</td>\n",
       "      <td>6</td>\n",
       "      <td>6</td>\n",
       "      <td>88</td>\n",
       "      <td>43</td>\n",
       "      <td>84</td>\n",
       "      <td>2</td>\n",
       "      <td>R4</td>\n",
       "      <td>R3</td>\n",
       "      <td>—</td>\n",
       "      <td>Europa League</td>\n",
       "      <td>R16</td>\n",
       "      <td>Gabriel MartinelliMartin ØdegaardBukayo Saka</td>\n",
       "      <td>15</td>\n",
       "    </tr>\n",
       "  </tbody>\n",
       "</table>\n",
       "</div>"
      ],
      "text/plain": [
       "   Index   Season Division  Pld   W   D   L  GF  GA  Pts  Pos FA Cup League  \\\n",
       "0   <NA>  2019–20     Prem   38  14  14  10  56  48   56    8      W     R4   \n",
       "1   <NA>  2020–21     Prem   38  18   7  13  55  39   61    8     R4     QF   \n",
       "2   <NA>  2021–22     Prem   38  22   3  13  61  48   69    5     R3     SF   \n",
       "3   <NA>  2022–23     Prem   38  26   6   6  88  43   84    2     R4     R3   \n",
       "\n",
       "  Community    Competition Result  \\\n",
       "0         —  Europa League    R32   \n",
       "1         W  Europa League     SF   \n",
       "2         —              —      —   \n",
       "3         —  Europa League    R16   \n",
       "\n",
       "                                      Player(s)  Goals  \n",
       "0                     Pierre-Emerick Aubameyang     29  \n",
       "1                                         Alexa     17  \n",
       "2                                   Bukayo Saka     12  \n",
       "3  Gabriel MartinelliMartin ØdegaardBukayo Saka     15  "
      ]
     },
     "execution_count": 11,
     "metadata": {},
     "output_type": "execute_result"
    }
   ],
   "source": [
    "mydata.convert_dtypes()"
   ]
  },
  {
   "cell_type": "code",
   "execution_count": 12,
   "id": "c1b73652",
   "metadata": {
    "scrolled": true
   },
   "outputs": [
    {
     "data": {
      "text/html": [
       "<div>\n",
       "<style scoped>\n",
       "    .dataframe tbody tr th:only-of-type {\n",
       "        vertical-align: middle;\n",
       "    }\n",
       "\n",
       "    .dataframe tbody tr th {\n",
       "        vertical-align: top;\n",
       "    }\n",
       "\n",
       "    .dataframe thead th {\n",
       "        text-align: right;\n",
       "    }\n",
       "</style>\n",
       "<table border=\"1\" class=\"dataframe\">\n",
       "  <thead>\n",
       "    <tr style=\"text-align: right;\">\n",
       "      <th></th>\n",
       "      <th>Season</th>\n",
       "      <th>Division</th>\n",
       "      <th>Pld</th>\n",
       "      <th>W</th>\n",
       "      <th>D</th>\n",
       "      <th>L</th>\n",
       "      <th>GF</th>\n",
       "      <th>GA</th>\n",
       "      <th>Pts</th>\n",
       "      <th>Pos</th>\n",
       "      <th>FA Cup</th>\n",
       "      <th>League Cup</th>\n",
       "      <th>Comm. Shield</th>\n",
       "      <th>UCL</th>\n",
       "      <th>UEL</th>\n",
       "      <th>CWC</th>\n",
       "      <th>Super Cup</th>\n",
       "      <th>Club World Cup</th>\n",
       "      <th>Player(s)</th>\n",
       "      <th>Goals</th>\n",
       "    </tr>\n",
       "  </thead>\n",
       "  <tbody>\n",
       "    <tr>\n",
       "      <th>0</th>\n",
       "      <td>2016–17</td>\n",
       "      <td>PL</td>\n",
       "      <td>38</td>\n",
       "      <td>22</td>\n",
       "      <td>10</td>\n",
       "      <td>6</td>\n",
       "      <td>78</td>\n",
       "      <td>42</td>\n",
       "      <td>76</td>\n",
       "      <td>4</td>\n",
       "      <td>R4</td>\n",
       "      <td>SF</td>\n",
       "      <td>—</td>\n",
       "      <td>—</td>\n",
       "      <td>—</td>\n",
       "      <td>—</td>\n",
       "      <td>—</td>\n",
       "      <td>—</td>\n",
       "      <td>Philippe Coutinho</td>\n",
       "      <td>14</td>\n",
       "    </tr>\n",
       "    <tr>\n",
       "      <th>1</th>\n",
       "      <td>2017–18</td>\n",
       "      <td>PL</td>\n",
       "      <td>38</td>\n",
       "      <td>21</td>\n",
       "      <td>12</td>\n",
       "      <td>5</td>\n",
       "      <td>84</td>\n",
       "      <td>38</td>\n",
       "      <td>75</td>\n",
       "      <td>4</td>\n",
       "      <td>R4</td>\n",
       "      <td>R3</td>\n",
       "      <td>—</td>\n",
       "      <td>RU</td>\n",
       "      <td>—</td>\n",
       "      <td>—</td>\n",
       "      <td>—</td>\n",
       "      <td>—</td>\n",
       "      <td>Mohamed Salah[p]</td>\n",
       "      <td>44</td>\n",
       "    </tr>\n",
       "    <tr>\n",
       "      <th>2</th>\n",
       "      <td>2018–19</td>\n",
       "      <td>PL</td>\n",
       "      <td>38</td>\n",
       "      <td>30</td>\n",
       "      <td>7</td>\n",
       "      <td>1</td>\n",
       "      <td>89</td>\n",
       "      <td>22</td>\n",
       "      <td>97</td>\n",
       "      <td>2</td>\n",
       "      <td>R3</td>\n",
       "      <td>R3</td>\n",
       "      <td>—</td>\n",
       "      <td>W</td>\n",
       "      <td>—</td>\n",
       "      <td>—</td>\n",
       "      <td>—</td>\n",
       "      <td>—</td>\n",
       "      <td>Mohamed Salah[q]</td>\n",
       "      <td>27</td>\n",
       "    </tr>\n",
       "    <tr>\n",
       "      <th>3</th>\n",
       "      <td>2019–20</td>\n",
       "      <td>PL</td>\n",
       "      <td>38</td>\n",
       "      <td>32</td>\n",
       "      <td>3</td>\n",
       "      <td>3</td>\n",
       "      <td>85</td>\n",
       "      <td>33</td>\n",
       "      <td>99</td>\n",
       "      <td>1</td>\n",
       "      <td>R5</td>\n",
       "      <td>QF</td>\n",
       "      <td>RU</td>\n",
       "      <td>R16</td>\n",
       "      <td>—</td>\n",
       "      <td>—</td>\n",
       "      <td>W</td>\n",
       "      <td>W</td>\n",
       "      <td>Mohamed Salah</td>\n",
       "      <td>23</td>\n",
       "    </tr>\n",
       "  </tbody>\n",
       "</table>\n",
       "</div>"
      ],
      "text/plain": [
       "    Season Division  Pld   W   D  L  GF  GA  Pts  Pos FA Cup League Cup  \\\n",
       "0  2016–17       PL   38  22  10  6  78  42   76    4     R4         SF   \n",
       "1  2017–18       PL   38  21  12  5  84  38   75    4     R4         R3   \n",
       "2  2018–19       PL   38  30   7  1  89  22   97    2     R3         R3   \n",
       "3  2019–20       PL   38  32   3  3  85  33   99    1     R5         QF   \n",
       "\n",
       "  Comm. Shield  UCL UEL CWC Super Cup Club World Cup          Player(s)  Goals  \n",
       "0            —    —   —   —         —              —  Philippe Coutinho     14  \n",
       "1            —   RU   —   —         —              —   Mohamed Salah[p]     44  \n",
       "2            —    W   —   —         —              —   Mohamed Salah[q]     27  \n",
       "3           RU  R16   —   —         W              W      Mohamed Salah     23  "
      ]
     },
     "execution_count": 12,
     "metadata": {},
     "output_type": "execute_result"
    }
   ],
   "source": [
    "mydata2.convert_dtypes()"
   ]
  },
  {
   "cell_type": "markdown",
   "id": "3a6d5041",
   "metadata": {},
   "source": [
    "Now, mydata displays the different types of data types it has been converted into"
   ]
  },
  {
   "cell_type": "code",
   "execution_count": 13,
   "id": "1c08f9db",
   "metadata": {
    "scrolled": true
   },
   "outputs": [
    {
     "data": {
      "text/plain": [
       "Index          float64\n",
       "Season          object\n",
       "Division        object\n",
       "Pld              int64\n",
       "W                int64\n",
       "D                int64\n",
       "L                int64\n",
       "GF               int64\n",
       "GA               int64\n",
       "Pts              int64\n",
       "Pos              int64\n",
       "FA Cup          object\n",
       "League          object\n",
       "Community       object\n",
       "Competition     object\n",
       "Result          object\n",
       "Player(s)       object\n",
       "Goals            int64\n",
       "dtype: object"
      ]
     },
     "execution_count": 13,
     "metadata": {},
     "output_type": "execute_result"
    }
   ],
   "source": [
    "mydata.dtypes"
   ]
  },
  {
   "cell_type": "code",
   "execution_count": 14,
   "id": "6ed97982",
   "metadata": {
    "scrolled": true
   },
   "outputs": [
    {
     "data": {
      "text/plain": [
       "Season            object\n",
       "Division          object\n",
       "Pld                int64\n",
       "W                  int64\n",
       "D                  int64\n",
       "L                  int64\n",
       "GF                 int64\n",
       "GA                 int64\n",
       "Pts                int64\n",
       "Pos                int64\n",
       "FA Cup            object\n",
       "League Cup        object\n",
       "Comm. Shield      object\n",
       "UCL               object\n",
       "UEL               object\n",
       "CWC               object\n",
       "Super Cup         object\n",
       "Club World Cup    object\n",
       "Player(s)         object\n",
       "Goals              int64\n",
       "dtype: object"
      ]
     },
     "execution_count": 14,
     "metadata": {},
     "output_type": "execute_result"
    }
   ],
   "source": [
    "mydata2.dtypes"
   ]
  },
  {
   "cell_type": "markdown",
   "id": "f3747a01",
   "metadata": {},
   "source": [
    "## 10 Analysis on Arsenal\n",
    "###  10.1 Plotting data on the statistics"
   ]
  },
  {
   "cell_type": "code",
   "execution_count": 15,
   "id": "a3288bd0",
   "metadata": {
    "scrolled": true
   },
   "outputs": [
    {
     "data": {
      "text/html": [
       "<div>\n",
       "<style scoped>\n",
       "    .dataframe tbody tr th:only-of-type {\n",
       "        vertical-align: middle;\n",
       "    }\n",
       "\n",
       "    .dataframe tbody tr th {\n",
       "        vertical-align: top;\n",
       "    }\n",
       "\n",
       "    .dataframe thead th {\n",
       "        text-align: right;\n",
       "    }\n",
       "</style>\n",
       "<table border=\"1\" class=\"dataframe\">\n",
       "  <thead>\n",
       "    <tr style=\"text-align: right;\">\n",
       "      <th></th>\n",
       "      <th>Index</th>\n",
       "      <th>Season</th>\n",
       "      <th>Division</th>\n",
       "      <th>Pld</th>\n",
       "      <th>W</th>\n",
       "      <th>D</th>\n",
       "      <th>L</th>\n",
       "      <th>GF</th>\n",
       "      <th>GA</th>\n",
       "      <th>Pts</th>\n",
       "      <th>Pos</th>\n",
       "      <th>FA Cup</th>\n",
       "      <th>League</th>\n",
       "      <th>Community</th>\n",
       "      <th>Competition</th>\n",
       "      <th>Result</th>\n",
       "      <th>Player(s)</th>\n",
       "      <th>Goals</th>\n",
       "    </tr>\n",
       "  </thead>\n",
       "  <tbody>\n",
       "    <tr>\n",
       "      <th>0</th>\n",
       "      <td>NaN</td>\n",
       "      <td>2019–20</td>\n",
       "      <td>Prem</td>\n",
       "      <td>38</td>\n",
       "      <td>14</td>\n",
       "      <td>14</td>\n",
       "      <td>10</td>\n",
       "      <td>56</td>\n",
       "      <td>48</td>\n",
       "      <td>56</td>\n",
       "      <td>8</td>\n",
       "      <td>W</td>\n",
       "      <td>R4</td>\n",
       "      <td>—</td>\n",
       "      <td>Europa League</td>\n",
       "      <td>R32</td>\n",
       "      <td>Pierre-Emerick Aubameyang</td>\n",
       "      <td>29</td>\n",
       "    </tr>\n",
       "    <tr>\n",
       "      <th>1</th>\n",
       "      <td>NaN</td>\n",
       "      <td>2020–21</td>\n",
       "      <td>Prem</td>\n",
       "      <td>38</td>\n",
       "      <td>18</td>\n",
       "      <td>7</td>\n",
       "      <td>13</td>\n",
       "      <td>55</td>\n",
       "      <td>39</td>\n",
       "      <td>61</td>\n",
       "      <td>8</td>\n",
       "      <td>R4</td>\n",
       "      <td>QF</td>\n",
       "      <td>W</td>\n",
       "      <td>Europa League</td>\n",
       "      <td>SF</td>\n",
       "      <td>Alexa</td>\n",
       "      <td>17</td>\n",
       "    </tr>\n",
       "    <tr>\n",
       "      <th>2</th>\n",
       "      <td>NaN</td>\n",
       "      <td>2021–22</td>\n",
       "      <td>Prem</td>\n",
       "      <td>38</td>\n",
       "      <td>22</td>\n",
       "      <td>3</td>\n",
       "      <td>13</td>\n",
       "      <td>61</td>\n",
       "      <td>48</td>\n",
       "      <td>69</td>\n",
       "      <td>5</td>\n",
       "      <td>R3</td>\n",
       "      <td>SF</td>\n",
       "      <td>—</td>\n",
       "      <td>—</td>\n",
       "      <td>—</td>\n",
       "      <td>Bukayo Saka</td>\n",
       "      <td>12</td>\n",
       "    </tr>\n",
       "    <tr>\n",
       "      <th>3</th>\n",
       "      <td>NaN</td>\n",
       "      <td>2022–23</td>\n",
       "      <td>Prem</td>\n",
       "      <td>38</td>\n",
       "      <td>26</td>\n",
       "      <td>6</td>\n",
       "      <td>6</td>\n",
       "      <td>88</td>\n",
       "      <td>43</td>\n",
       "      <td>84</td>\n",
       "      <td>2</td>\n",
       "      <td>R4</td>\n",
       "      <td>R3</td>\n",
       "      <td>—</td>\n",
       "      <td>Europa League</td>\n",
       "      <td>R16</td>\n",
       "      <td>Gabriel MartinelliMartin ØdegaardBukayo Saka</td>\n",
       "      <td>15</td>\n",
       "    </tr>\n",
       "  </tbody>\n",
       "</table>\n",
       "</div>"
      ],
      "text/plain": [
       "   Index   Season Division  Pld   W   D   L  GF  GA  Pts  Pos FA Cup League  \\\n",
       "0    NaN  2019–20     Prem   38  14  14  10  56  48   56    8      W     R4   \n",
       "1    NaN  2020–21     Prem   38  18   7  13  55  39   61    8     R4     QF   \n",
       "2    NaN  2021–22     Prem   38  22   3  13  61  48   69    5     R3     SF   \n",
       "3    NaN  2022–23     Prem   38  26   6   6  88  43   84    2     R4     R3   \n",
       "\n",
       "  Community    Competition Result  \\\n",
       "0         —  Europa League    R32   \n",
       "1         W  Europa League     SF   \n",
       "2         —              —      —   \n",
       "3         —  Europa League    R16   \n",
       "\n",
       "                                      Player(s)  Goals  \n",
       "0                     Pierre-Emerick Aubameyang     29  \n",
       "1                                         Alexa     17  \n",
       "2                                   Bukayo Saka     12  \n",
       "3  Gabriel MartinelliMartin ØdegaardBukayo Saka     15  "
      ]
     },
     "execution_count": 15,
     "metadata": {},
     "output_type": "execute_result"
    }
   ],
   "source": [
    "mydata"
   ]
  },
  {
   "cell_type": "code",
   "execution_count": 16,
   "id": "65472372",
   "metadata": {},
   "outputs": [
    {
     "data": {
      "image/png": "[encoded data removed]",
      "text/plain": [
       "<Figure size 432x288 with 1 Axes>"
      ]
     },
     "metadata": {},
     "output_type": "display_data"
    }
   ],
   "source": [
    "TotalW = mydata[\"Pld\"].sum()\n",
    "TotalD = mydata[\"W\"].sum()\n",
    "TotalL = mydata[\"L\"].sum()\n",
    "\n",
    "y =np.array([TotalW, TotalD, TotalL])\n",
    "mylabel = [\"Wins\",\"Draws\",\"Losses\"]\n",
    "\n",
    "plt.pie(y, labels = mylabel)\n",
    "plt.show()"
   ]
  },
  {
   "cell_type": "markdown",
   "id": "f586bba2",
   "metadata": {},
   "source": [
    "Seen in the pie chart above, Arteta has a large portion of Wins as compare to draws and losses. However, the concerning part is that the draws and losses seem to be similar in size."
   ]
  },
  {
   "cell_type": "markdown",
   "id": "07956129",
   "metadata": {},
   "source": [
    "#### 10.1.2 Graph of points earned over the past 4 seasons"
   ]
  },
  {
   "cell_type": "code",
   "execution_count": 17,
   "id": "c76c4fed",
   "metadata": {
    "scrolled": true
   },
   "outputs": [
    {
     "data": {
      "image/png": "[encoded data removed]",
      "text/plain": [
       "<Figure size 432x288 with 1 Axes>"
      ]
     },
     "metadata": {
      "needs_background": "light"
     },
     "output_type": "display_data"
    }
   ],
   "source": [
    "mydata.plot(x = 'Season', y = 'Pts')\n",
    "plt.show()"
   ]
  },
  {
   "cell_type": "markdown",
   "id": "d42d8de0",
   "metadata": {},
   "source": [
    "The steady increase of points through the three seasons is a positive sight as it means that the team is improving and is winning more games. I can expect an increase in points for the next season"
   ]
  },
  {
   "cell_type": "markdown",
   "id": "c86f1579",
   "metadata": {},
   "source": [
    "#### 10.1.3 Graph of goals scored over the past 4 seasons\n"
   ]
  },
  {
   "cell_type": "code",
   "execution_count": 18,
   "id": "1f4df5e0",
   "metadata": {},
   "outputs": [
    {
     "data": {
      "image/png": "[encoded data removed]",
      "text/plain": [
       "<Figure size 432x288 with 1 Axes>"
      ]
     },
     "metadata": {
      "needs_background": "light"
     },
     "output_type": "display_data"
    }
   ],
   "source": [
    "mydata.plot(kind = 'bar', x = 'Season', y = 'GF')\n",
    "plt.show()"
   ]
  },
  {
   "cell_type": "code",
   "execution_count": 19,
   "id": "a052f1a9-cc64-47bc-8c9e-9f956d463d6b",
   "metadata": {},
   "outputs": [],
   "source": [
    "diff=mydata['GF'][3]-mydata['GF'][2]\n",
    "pct = (diff/mydata['GF'][3]) * 100"
   ]
  },
  {
   "cell_type": "markdown",
   "id": "2819429b",
   "metadata": {},
   "source": [
    "From the graph above, we can see a huge increase of {{pct}} % of goals scored when compared from the previous season"
   ]
  },
  {
   "cell_type": "markdown",
   "id": "20436e89",
   "metadata": {},
   "source": [
    "#### 10.1.4 Graph of goals conceded over the past 4 seasons"
   ]
  },
  {
   "cell_type": "code",
   "execution_count": 20,
   "id": "e2054fee",
   "metadata": {},
   "outputs": [
    {
     "data": {
      "text/plain": [
       "<AxesSubplot:xlabel='Season'>"
      ]
     },
     "execution_count": 20,
     "metadata": {},
     "output_type": "execute_result"
    },
    {
     "data": {
      "image/png": "[encoded data removed]",
      "text/plain": [
       "<Figure size 432x288 with 1 Axes>"
      ]
     },
     "metadata": {
      "needs_background": "light"
     },
     "output_type": "display_data"
    }
   ],
   "source": [
    "mydata.plot(kind = 'bar', x = 'Season', y = 'GA')"
   ]
  },
  {
   "cell_type": "markdown",
   "id": "8e7a22be",
   "metadata": {},
   "source": [
    "The number of goals conceded is really concerning as it does not decrease but it increases in the latest season when compared with 20/21 season. This is concerning because it shows the defence is not as efficient in keeping goals out."
   ]
  },
  {
   "cell_type": "markdown",
   "id": "11f19c5d",
   "metadata": {},
   "source": [
    "#### 10.1.5 League position over the past 4 seasons"
   ]
  },
  {
   "cell_type": "code",
   "execution_count": 21,
   "id": "b8fc53b4",
   "metadata": {},
   "outputs": [
    {
     "data": {
      "image/png": "[encoded data removed]",
      "text/plain": [
       "<Figure size 432x288 with 1 Axes>"
      ]
     },
     "metadata": {
      "needs_background": "light"
     },
     "output_type": "display_data"
    }
   ],
   "source": [
    "plt.plot('Season','Pos',data = mydata)\n",
    "plt.ylim(10,1)\n",
    "plt.ylabel('League position')\n",
    "plt.xlabel('Season')\n",
    "plt.show()"
   ]
  },
  {
   "cell_type": "markdown",
   "id": "4e1f3cfb",
   "metadata": {},
   "source": [
    "It is refreshing to see that after stagnating in 8th position for two seasons in a row, the Arsenal were able to finish 5th in the latest season. An improvement of 3 positions."
   ]
  },
  {
   "cell_type": "markdown",
   "id": "fcdc63ff",
   "metadata": {},
   "source": [
    "## 11 Comparing Arsenal with Liverpool\n",
    "Now we will compare the statistics of Liverpool's Jurgen Klopp first three seasons at liverpool with Arsenal's Arteta to see how similiar or different both were when they started out\n",
    "### 11.1 Plot a graph to compare league positions of both clubs in first 3 seasons under their said managers\n",
    "The graph below will show how the teams fared in the league in terms of league position at the end of the first three seasons in charge of their new managers"
   ]
  },
  {
   "cell_type": "code",
   "execution_count": 22,
   "id": "a1d2e249",
   "metadata": {
    "scrolled": true
   },
   "outputs": [
    {
     "data": {
      "image/png": "[encoded data removed]",
      "text/plain": [
       "<Figure size 432x288 with 1 Axes>"
      ]
     },
     "metadata": {
      "needs_background": "light"
     },
     "output_type": "display_data"
    }
   ],
   "source": [
    "Season = ['1','2','3','4']\n",
    "plt.plot(Season,'Pos', data= mydata, label=\"Arsenal\")\n",
    "\n",
    "plt.plot(Season,'Pos', data= mydata2, label=\"Liverpool\")\n",
    "\n",
    "plt.ylim(10,1)\n",
    "\n",
    "plt.xlabel('Seasons')\n",
    "plt.ylabel('League Position')\n",
    "\n",
    "plt.legend()\n",
    "plt.show()"
   ]
  },
  {
   "cell_type": "markdown",
   "id": "d02f0ee2",
   "metadata": {},
   "source": [
    "Although Klopp managed to guide liverpool to a higher finish than Arteta did for Arsenal in their first three seasons at their respective clubs, there is a similiar shape whereby both clubs had a stagnant position finish in the first two seasons under their new managers before improving to a better league finish in the third season"
   ]
  },
  {
   "cell_type": "markdown",
   "id": "c01a7d50",
   "metadata": {},
   "source": [
    "### 11.2 Comparing goals scored by both\n",
    "The bar graph below will show the difference between how much goals were scored by each team in the three seasons"
   ]
  },
  {
   "cell_type": "code",
   "execution_count": 23,
   "id": "d5bf4c09",
   "metadata": {},
   "outputs": [
    {
     "data": {
      "image/png": "[encoded data removed]",
      "text/plain": [
       "<Figure size 432x288 with 1 Axes>"
      ]
     },
     "metadata": {
      "needs_background": "light"
     },
     "output_type": "display_data"
    }
   ],
   "source": [
    "Season = ['1','2','3','4']\n",
    "\n",
    "x_axis = np.arange(len(Season))\n",
    "\n",
    "plt.bar(x_axis-0.2, 'GF', 0.4, label=\"Arsenal\", data= mydata)\n",
    "plt.bar(x_axis+0.2, 'GF', 0.4, label=\"Liverpool\",data= mydata2)\n",
    "\n",
    "plt.xticks(x_axis, Season)\n",
    "plt.xlabel('Seasons')\n",
    "plt.ylabel('Goals Scored')\n",
    "\n",
    "\n",
    "plt.legend()\n",
    "plt.show()"
   ]
  },
  {
   "cell_type": "markdown",
   "id": "0689aced",
   "metadata": {},
   "source": [
    "It is evident from the bar chart above, that Liverpool has a better firepower than Arsenal. They consistently were able to score more goals than Arsenal in the three seasons. "
   ]
  },
  {
   "cell_type": "markdown",
   "id": "7385fef5",
   "metadata": {},
   "source": [
    "### 11.3 Comparing goals Conceded by both\n",
    "The bar graph below will show the difference between how much goals were scored by each team in the three seasons"
   ]
  },
  {
   "cell_type": "code",
   "execution_count": 24,
   "id": "53bdfc6d",
   "metadata": {},
   "outputs": [
    {
     "data": {
      "image/png": "[encoded data removed]",
      "text/plain": [
       "<Figure size 432x288 with 1 Axes>"
      ]
     },
     "metadata": {
      "needs_background": "light"
     },
     "output_type": "display_data"
    }
   ],
   "source": [
    "Season = ['1','2','3','4']\n",
    "\n",
    "x_axis = np.arange(len(Season))\n",
    "\n",
    "plt.bar(x_axis-0.2, 'GA', 0.4, label=\"Arsenal\", data= mydata)\n",
    "plt.bar(x_axis+0.2, 'GA', 0.4, label=\"Liverpool\",data= mydata2)\n",
    "\n",
    "plt.xticks(x_axis, Season)\n",
    "plt.xlabel('Seasons')\n",
    "plt.ylabel('Goals Conceded')\n",
    "\n",
    "\n",
    "plt.legend()\n",
    "plt.show()"
   ]
  },
  {
   "cell_type": "markdown",
   "id": "eb1ca387",
   "metadata": {},
   "source": [
    "The bar chart shows that Arsenal had always been conceding more goals than Liverpool. However, in the third season, we can see that Liverpool managed to improve their defence judging by drastic decrease in number of goals conceded where Arsenal's number of goals conceded increased in the third season."
   ]
  },
  {
   "cell_type": "markdown",
   "id": "49eee584",
   "metadata": {},
   "source": [
    "### 11.4 Comparing Arteta and Klopp\n",
    "The pie chart below will show the wins, draw and losses of Arteta and Klopp in their first three seasons"
   ]
  },
  {
   "cell_type": "code",
   "execution_count": 25,
   "id": "776cd39a",
   "metadata": {},
   "outputs": [
    {
     "data": {
      "image/png": "[encoded data removed]",
      "text/plain": [
       "<Figure size 720x720 with 2 Axes>"
      ]
     },
     "metadata": {},
     "output_type": "display_data"
    }
   ],
   "source": [
    "fig, (plt1,plt2) = plt.subplots(1,2,figsize=(10,10))\n",
    "mylabel = [\"Wins\",\"Draws\",\"Losses\"]\n",
    "\n",
    "TotalW = mydata[\"Pld\"].sum()\n",
    "TotalD = mydata[\"W\"].sum()\n",
    "TotalL = mydata[\"L\"].sum()\n",
    "y =np.array([TotalW, TotalD, TotalL])\n",
    "plt1.pie(y, labels = mylabel)\n",
    "plt1.set_title(\"Arsenal under Arteta\")\n",
    "\n",
    "TotalW2 = mydata2[\"Pld\"].sum()\n",
    "TotalD2 = mydata2[\"W\"].sum()\n",
    "TotalL2 = mydata2[\"L\"].sum()\n",
    "z =np.array([TotalW2, TotalD2, TotalL2])\n",
    "plt2.pie(z, labels = mylabel)\n",
    "plt2.set_title('Liverpool under Klopp')\n",
    "\n",
    "plt.show()"
   ]
  },
  {
   "cell_type": "markdown",
   "id": "afe2dcf6",
   "metadata": {},
   "source": [
    "From the pie chart above, I can deduce that they have similar win rates. It is a positive sign that Arteta has a large win portion similar to Klopp. "
   ]
  },
  {
   "cell_type": "markdown",
   "id": "07c906d2",
   "metadata": {},
   "source": [
    "## 12 Summary\n",
    "### 12.1 Conclusion\n",
    "Deducing from the analysis made, I can say that Arteta is doing quite a decent job at rebuilding Arsenal. Areas such as improvement in league positioning trend similiar to Liverpool's Klopp that shows Arteta is improving at Arsenal.  An area where he must improve the team is their defence department should they want to be more successul in the upcoming season. It is safe to say that Arteta is the right person for this job and judging by the upward trend of Arsenal's league position and points accumulation, the team will improve for the upcoming season. Arsenal fans can expect an exciting season ahead. "
   ]
  },
  {
   "cell_type": "markdown",
   "id": "a3e387e1",
   "metadata": {},
   "source": [
    "### 12.2 Summary of prepared data\n",
    "#### 12.2.1 Arsenal Dataframe"
   ]
  },
  {
   "cell_type": "code",
   "execution_count": 26,
   "id": "4dbeaa27",
   "metadata": {},
   "outputs": [
    {
     "data": {
      "text/plain": [
       "Index(['Index', 'Season', 'Division', 'Pld', 'W', 'D', 'L', 'GF', 'GA', 'Pts',\n",
       "       'Pos', 'FA Cup', 'League', 'Community', 'Competition', 'Result',\n",
       "       'Player(s)', 'Goals'],\n",
       "      dtype='object')"
      ]
     },
     "execution_count": 26,
     "metadata": {},
     "output_type": "execute_result"
    }
   ],
   "source": [
    "mydata.columns"
   ]
  },
  {
   "cell_type": "markdown",
   "id": "d7f9e39a",
   "metadata": {},
   "source": [
    "#### 12.2.2 Liverpool Dataframe"
   ]
  },
  {
   "cell_type": "code",
   "execution_count": 27,
   "id": "322d9534",
   "metadata": {
    "scrolled": true
   },
   "outputs": [
    {
     "data": {
      "text/plain": [
       "Index(['Season', 'Division', 'Pld', 'W', 'D', 'L', 'GF', 'GA', 'Pts', 'Pos',\n",
       "       'FA Cup', 'League Cup', 'Comm. Shield', 'UCL', 'UEL', 'CWC',\n",
       "       'Super Cup', 'Club World Cup', 'Player(s)', 'Goals'],\n",
       "      dtype='object')"
      ]
     },
     "execution_count": 27,
     "metadata": {},
     "output_type": "execute_result"
    }
   ],
   "source": [
    "mydata2.columns"
   ]
  },
  {
   "cell_type": "markdown",
   "id": "d4a09762",
   "metadata": {},
   "source": [
    "## 13 References and Resources\n",
    "### 13.1 References\n",
    "[1] https://en.wikipedia.org/wiki/Wikipedia:General_disclaimer\n",
    "### 13.2 Resources\n",
    "#### Webscraping\n",
    "- Webscraping and APIs with Llewelyn Fernandes (Coursera)\n",
    "- Web Scraping a Wikipedia Table into a Dataframe (https://medium.com/analytics-vidhya/web-scraping-a-wikipedia-table-into-a-dataframe-c52617e1f451)\n",
    "- Scrape_Helper file (Webscraping and APIs with Llewelyn Fernandes)\n",
    "\n",
    "#### Data cleaning and processing\n",
    "- Webscraping and APIs with Llewelyn Fernandes\n",
    "\n",
    "#### Plotting graphs and charts\n",
    "- Matplotlib Pie Charts (https://www.w3schools.com/python/matplotlib_pie_charts.asp )\n",
    "- Plotting multiple bar charts using Matplotlib in Python (https://www.geeksforgeeks.org/plotting-multiple-bar-charts-using-matplotlib-in-python/)\n",
    "- Graph Plotting in Python | Set 1(https://www.geeksforgeeks.org/graph-plotting-in-python-set-1/)\n",
    "-Guest lecture with Llewelyn Fernandes - Data Plotting (Coursera)"
   ]
  },
  {
   "cell_type": "code",
   "execution_count": null,
   "id": "37963c19",
   "metadata": {},
   "outputs": [],
   "source": []
  },
  {
   "cell_type": "code",
   "execution_count": null,
   "id": "aa66a4b0",
   "metadata": {},
   "outputs": [],
   "source": []
  }
 ],
 "metadata": {
  "kernelspec": {
   "display_name": "Python 3 (ipykernel)",
   "language": "python",
   "name": "python3"
  },
  "language_info": {
   "codemirror_mode": {
    "name": "ipython",
    "version": 3
   },
   "file_extension": ".py",
   "mimetype": "text/x-python",
   "name": "python",
   "nbconvert_exporter": "python",
   "pygments_lexer": "ipython3",
   "version": "3.9.7"
  }
 },
 "nbformat": 4,
 "nbformat_minor": 5
}
